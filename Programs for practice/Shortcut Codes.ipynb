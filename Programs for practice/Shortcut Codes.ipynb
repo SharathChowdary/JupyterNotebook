{
 "cells": [
  {
   "cell_type": "code",
   "execution_count": 1,
   "id": "1786acf7",
   "metadata": {},
   "outputs": [
    {
     "name": "stdout",
     "output_type": "stream",
     "text": [
      "[('Cruyff', 104), ('Eusebio', 120), ('Messi', 125), ('Ronaldo', 132), ('Pele', 150)]\n"
     ]
    }
   ],
   "source": [
    "# Sorting a dictionary based on its values\n",
    "dct = {'Eusebio': 120, 'Cruyff': 104, 'Pele': 150, 'Ronaldo': 132, 'Messi': 125}\n",
    "sorted_dct = sorted(dct.items(), key = lambda x : x[1])\n",
    "print(sorted_dct)"
   ]
  },
  {
   "cell_type": "code",
   "execution_count": 15,
   "id": "5ffd4e15",
   "metadata": {},
   "outputs": [
    {
     "name": "stdout",
     "output_type": "stream",
     "text": [
      "['Cruyff', 'Eusebio', 'Messi', 'Ronaldo', 'Pele']\n"
     ]
    }
   ],
   "source": [
    "# getting keys in sorted array based on the values\n",
    "dct = {'Eusebio': 120, 'Cruyff': 104, 'Pele': 150, 'Ronaldo': 132, 'Messi': 125}\n",
    "sorted_dct = sorted(dct.keys(), key = lambda x : dct[x])\n",
    "print(sorted_dct)"
   ]
  },
  {
   "cell_type": "code",
   "execution_count": null,
   "id": "8635b3ba",
   "metadata": {},
   "outputs": [],
   "source": []
  }
 ],
 "metadata": {
  "kernelspec": {
   "display_name": "Python 3",
   "language": "python",
   "name": "python3"
  },
  "language_info": {
   "codemirror_mode": {
    "name": "ipython",
    "version": 3
   },
   "file_extension": ".py",
   "mimetype": "text/x-python",
   "name": "python",
   "nbconvert_exporter": "python",
   "pygments_lexer": "ipython3",
   "version": "3.8.8"
  }
 },
 "nbformat": 4,
 "nbformat_minor": 5
}
