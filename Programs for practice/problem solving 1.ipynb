{
 "cells": [
  {
   "cell_type": "code",
   "execution_count": 11,
   "metadata": {},
   "outputs": [
    {
     "name": "stdout",
     "output_type": "stream",
     "text": [
      "9227465\n",
      "Time : 10.170088291168213 secs\n"
     ]
    }
   ],
   "source": [
    "# normal way of fibonacci using recursion\n",
    "import time\n",
    "def fibo(n):\n",
    "    if n<2:\n",
    "        return n\n",
    "    return fibo(n-2)+fibo(n-1)\n",
    "start=time.time()\n",
    "result=fibo(35)\n",
    "end=time.time()\n",
    "print(result)\n",
    "print(f\"Time : {end-start} secs\")"
   ]
  },
  {
   "cell_type": "code",
   "execution_count": 46,
   "metadata": {},
   "outputs": [
    {
     "name": "stdout",
     "output_type": "stream",
     "text": [
      "5789092068864820527338372482892113982249794889765\n",
      "Time : 0.00801992416381836 secs\n"
     ]
    }
   ],
   "source": [
    "# fibonacci with recursion by optimizing time\n",
    "# this memorize decorator fasten the program very much while using recursions\n",
    "from functools import wraps\n",
    "import time\n",
    "def memorize(func):\n",
    "    cache={}\n",
    "    @wraps(func)\n",
    "    def wrapper(*args,**kwargs):\n",
    "        key=str(args)+str(kwargs)\n",
    "        if key not in cache:\n",
    "            cache[key]=func(*args,**kwargs)\n",
    "        return cache[key]\n",
    "    return wrapper\n",
    "@memorize\n",
    "def fibo(n):\n",
    "    if n<2:\n",
    "        return n\n",
    "    return fibo(n-1)+fibo(n-2)\n",
    "start=time.time()\n",
    "result=fibo(235)\n",
    "end=time.time()\n",
    "print(result)\n",
    "print(f\"Time : {end-start} secs\")"
   ]
  },
  {
   "cell_type": "code",
   "execution_count": 5,
   "metadata": {},
   "outputs": [
    {
     "name": "stdout",
     "output_type": "stream",
     "text": [
      "Enter elements seperated by space: 1 2 6 6 6 6 6 7 7 7 7 7 7 7 7 7 8 8 8 9 9 \n",
      "Enter element to be targeted: 7\n",
      "Output is [7, 15]\n"
     ]
    }
   ],
   "source": [
    "#to define first and last position of a given integer in a sorted array\n",
    "def first_last_position(lst,target):\n",
    "    if target not in lst:\n",
    "        return [-1,-1]\n",
    "    for i in range(len(lst)):\n",
    "        if lst[i]==target:\n",
    "            start=i\n",
    "            while i+1<len(lst) and lst[i+1]==target:\n",
    "                i=i+1\n",
    "            return [start,i]\n",
    "lst=[int(i) for i in input(\"Enter elements seperated by space: \").split()]\n",
    "target=int(input(\"Enter element to be targeted: \"))\n",
    "print(\"Output is\",first_last_position(lst,target))"
   ]
  },
  {
   "cell_type": "code",
   "execution_count": 13,
   "metadata": {},
   "outputs": [
    {
     "name": "stdout",
     "output_type": "stream",
     "text": [
      "Enter the string 1: nameless\n",
      "Enter the string 2: salesmen\n",
      "strings are anagrams\n"
     ]
    }
   ],
   "source": [
    "# check whether the given two strings are anagrams are not.\n",
    "def anagram(string1,string2):\n",
    "    if len(string1)!=len(string2):\n",
    "        return False\n",
    "    else:\n",
    "        dct1={}\n",
    "        dct2={}\n",
    "        for i in string1:\n",
    "            if i in dct1:\n",
    "                dct1[i]+=1\n",
    "            else:\n",
    "                dct1[i]=1\n",
    "        for i in string2:\n",
    "            if i in dct2:\n",
    "                dct2[i]+=1\n",
    "            else:\n",
    "                dct2[i]=1\n",
    "        for i in dct1:\n",
    "            if i not in dct2.keys() or dct1[i]!=dct2[i]:\n",
    "                return False\n",
    "        return True\n",
    "str1=input(\"Enter the string 1: \")\n",
    "str2=input(\"Enter the string 2: \")\n",
    "if anagram(str1,str2)==True:\n",
    "    print(\"strings are anagrams\")\n",
    "else:\n",
    "    print(\"Strings are not anagrams\")"
   ]
  },
  {
   "cell_type": "code",
   "execution_count": 17,
   "metadata": {},
   "outputs": [
    {
     "name": "stdout",
     "output_type": "stream",
     "text": [
      "Enter the elements seperated by space: 45 26 2 58 6 8 56 52 3\n",
      "Enter the value of k: 3\n",
      "K th largest element is 52\n"
     ]
    }
   ],
   "source": [
    "#Given an array of interger ARR and integer k,find the kth largest element in the array\n",
    "def kth_largest(arr,k):\n",
    "    if len(arr)==0:\n",
    "        return \"empty array\"\n",
    "    for i in range(k-1):\n",
    "        arr.remove(max(arr))\n",
    "    return max(arr)\n",
    "arr=[int(i) for i in input(\"Enter the elements seperated by space: \").split()]\n",
    "k=int(input(\"Enter the value of k: \"))\n",
    "print(\"K th largest element is\",kth_largest(arr,k))"
   ]
  },
  {
   "cell_type": "code",
   "execution_count": 1,
   "metadata": {},
   "outputs": [
    {
     "name": "stdout",
     "output_type": "stream",
     "text": [
      "Enter amount : 10000\n",
      "Enter start date (dd-mm-yyyy) : 27-10-2023\n",
      "Enter end date (dd-mm-yyyy) : 02-06-2024\n",
      "Enter interest rupees per 100 : 3\n",
      "Interest per month :  300.0\n",
      "Total interest :  2158.709677419355\n",
      "Total amount with interest :  12158.709677419356\n"
     ]
    }
   ],
   "source": [
    "#mitthi paisal\n",
    "def is_leap_year(year):\n",
    "    if year%4==0:\n",
    "        return True\n",
    "    else:\n",
    "        return False\n",
    "days_30=[4,6,9,11]\n",
    "days_31=[1,3,5,7,8,10,12]\n",
    "def no_of_days_per_month(month,year):\n",
    "    if month in days_30:\n",
    "        return 30\n",
    "    elif month in days_31:\n",
    "        return 31\n",
    "    else:\n",
    "        if is_leap_year(year):\n",
    "            return 29\n",
    "        else:\n",
    "            return 28\n",
    "def calculate_interest_in_this_month(no_of_days,month,year):\n",
    "    interest_per_day=interest_per_month/no_of_days_per_month(month,year)\n",
    "    return no_of_days*interest_per_day\n",
    "amount=float(input(\"Enter amount : \"))\n",
    "start_date=input(\"Enter start date (dd-mm-yyyy) : \")\n",
    "end_date=input(\"Enter end date (dd-mm-yyyy) : \")\n",
    "interest_rate=float(input(\"Enter interest rupees per 100 : \"))\n",
    "start_list=[int(x) for x in start_date.split(\"-\")]\n",
    "end_list=[int(x) for x in end_date.split(\"-\")]\n",
    "start_year=start_list[2]\n",
    "end_year=end_list[2]\n",
    "start_month=start_list[1]\n",
    "end_month=end_list[1]\n",
    "start_date=start_list[0]\n",
    "end_date=end_list[0]\n",
    "interest=0\n",
    "interest_per_month=(amount/100)*interest_rate\n",
    "interest_per_month\n",
    "for year in range(start_year,end_year+1):\n",
    "    if start_year==end_year:\n",
    "        for month in range(start_month,end_month+1):\n",
    "            if start_month==end_month:\n",
    "                no_of_days=end_date-start_date\n",
    "                interest=calculate_interest_in_this_month(no_of_days,month,year)\n",
    "            elif month==start_month:\n",
    "                no_of_days=no_of_days_per_month(month,year)-start_date\n",
    "                interest=calculate_interest_in_this_month(no_of_days,month,year)\n",
    "            elif month==end_month:\n",
    "                no_of_days=end_date\n",
    "                interest+=calculate_interest_in_this_month(no_of_days,month,year)\n",
    "            else:\n",
    "                interest+=interest_per_month\n",
    "    elif year==start_year:\n",
    "        for month in range(start_month,13):\n",
    "            if month==start_month:\n",
    "                no_of_days=no_of_days_per_month(month,year)-start_date\n",
    "                interest=calculate_interest_in_this_month(no_of_days,month,year)\n",
    "            else:\n",
    "                interest+=interest_per_month\n",
    "    elif year==end_year:\n",
    "        for month in range(1,end_month+1):\n",
    "            if month==end_month:\n",
    "                no_of_days=end_date\n",
    "                interest+=calculate_interest_in_this_month(no_of_days,month,year)\n",
    "            else:\n",
    "                interest+=interest_per_month\n",
    "    else:\n",
    "        for month in range(1,13):\n",
    "            interest+=interest_per_month\n",
    "print(\"Interest per month : \",interest_per_month)\n",
    "print(\"Total interest : \",interest)\n",
    "print(\"Total amount with interest : \",amount+interest)"
   ]
  },
  {
   "cell_type": "code",
   "execution_count": null,
   "metadata": {},
   "outputs": [],
   "source": [
    "#Decryption\n",
    "string=\"pTo*Ta*O\"\n",
    "def decrypt(string):\n",
    "    nums_list=[]\n",
    "    nums_list_count=0\n",
    "    skip_nums=[]\n",
    "    new_string=\"\"\n",
    "    for i in range(len(string)):\n",
    "        if i in skip_nums:\n",
    "            continue\n",
    "        elif string[i].isnumeric() and string[i]!='0':\n",
    "            nums_list.append(string[i])\n",
    "        elif i<=len(string)-3 and string[i].isupper() and string[i+1].islower() and string[i+2]==\"*\":\n",
    "            new_string+=string[i+1]+string[i]\n",
    "            skip_nums=[i+1,i+2]\n",
    "        \n",
    "        elif string[i]=='0':\n",
    "            new_string+=nums_list.pop()\n",
    "            nums_list_count+=1\n",
    "        elif string[i].isalpha():\n",
    "            new_string+=string[i]\n",
    "    return new_string\n",
    "\n",
    "decrypt(string)"
   ]
  },
  {
   "cell_type": "code",
   "execution_count": 1,
   "metadata": {},
   "outputs": [
    {
     "name": "stdout",
     "output_type": "stream",
     "text": [
      "Enter input : 1,2,1\n",
      "['121', '112', '211']\n",
      "211,3\n"
     ]
    }
   ],
   "source": [
    "#getting all count of all possible 3 digit numbers and getting maximum value\n",
    "lst=input(\"Enter input : \").split(\",\")\n",
    "possibilities=[]\n",
    "for i in lst:\n",
    "    lst1=lst.copy()\n",
    "    lst1.remove(i)\n",
    "    for j in lst1:\n",
    "        lst2=lst1.copy()\n",
    "        lst2.remove(j)\n",
    "        for k in lst2:\n",
    "            if i+j+k not in possibilities:\n",
    "                possibilities.append(i+j+k)\n",
    "string=max(possibilities)+\",\"+str(len(possibilities))\n",
    "print(possibilities)\n",
    "print(string)"
   ]
  },
  {
   "cell_type": "code",
   "execution_count": 7,
   "metadata": {},
   "outputs": [
    {
     "data": {
      "text/plain": [
       "545"
      ]
     },
     "execution_count": 7,
     "metadata": {},
     "output_type": "execute_result"
    }
   ],
   "source": [
    "#add the number with its reverse and check if the obtained number is palindrome or not . add sum and its reverse and repeat the process until you get palindrome and return that palindrome value\n",
    "def reverse_num(num):\n",
    "    temp=num\n",
    "    res=0\n",
    "    while temp>0:\n",
    "        div=temp%10\n",
    "        res=res*10+div\n",
    "        temp=temp//10\n",
    "    return res\n",
    "def get_palindrome(num):\n",
    "    temp=num\n",
    "    num=num+reverse_num(num)\n",
    "    while num!=reverse_num(num):\n",
    "        num=num+reverse_num(num)\n",
    "    return num\n",
    "get_palindrome(124)"
   ]
  },
  {
   "cell_type": "code",
   "execution_count": 6,
   "metadata": {},
   "outputs": [
    {
     "name": "stdout",
     "output_type": "stream",
     "text": [
      "3\n",
      "[5, 17, 41]\n"
     ]
    }
   ],
   "source": [
    "\"\"\"\n",
    "Some prime numbers can be expressed as a sum of other consecutive prime numbers.\n",
    "\n",
    "For example\n",
    "5 = 2 + 3,\n",
    "17 = 2 + 3 + 5 + 7,\n",
    "41 = 2 + 3 + 5 + 7 + 11 + 13.\n",
    "Your task is to find out how many prime numbers which satisfy this property are present in the range 3 to N subject to a constraint that summation should always start with number 2.\n",
    "Write code to find out the number of prime numbers that satisfy the above-mentioned property in a given range.\n",
    "\n",
    "Input Format: First line contains a number N\n",
    "\n",
    "Output Format: Print the total number of all such prime numbers which are less than or equal to N.\n",
    "\n",
    "Constraints: 2<N<=12,000,000,000\n",
    "\"\"\"\n",
    "def is_prime(n):\n",
    "    for i in range(2,(n//2)+1):\n",
    "        if n%i==0:\n",
    "            return False\n",
    "    return True\n",
    "n=50\n",
    "poss=0\n",
    "poss_vals=[]\n",
    "for i in range(5,n+1,2):\n",
    "    temp=0\n",
    "    for j in range(2,i+1):\n",
    "        if j>i-temp:\n",
    "            break\n",
    "        if is_prime(j) and j<=i-temp:\n",
    "            temp+=j\n",
    "            if temp==i:\n",
    "                poss+=1\n",
    "                poss_vals.append(i)\n",
    "                break\n",
    "\n",
    "print(poss)\n",
    "print(poss_vals)"
   ]
  },
  {
   "cell_type": "code",
   "execution_count": 7,
   "metadata": {},
   "outputs": [
    {
     "name": "stdout",
     "output_type": "stream",
     "text": [
      "3\n",
      "[5, 17, 41]\n"
     ]
    }
   ],
   "source": [
    "#another method from google\n",
    "num = 50\n",
    "arr = []\n",
    "sum = 0\n",
    "count = 0\n",
    "poss=[]\n",
    "if num > 1:\n",
    "    for i in range(2, num + 2):\n",
    "        for j in range(2, i):\n",
    "            if i % j == 0:\n",
    "                break\n",
    "        else:\n",
    "            arr.append(i)\n",
    "def is_prime(sum):\n",
    "    for i in range(2, (sum // 2) +2):\n",
    "        if sum % i == 0:\n",
    "            return False\n",
    "        else:\n",
    "            return True\n",
    "for i in range(0, len(arr)):\n",
    "    sum = sum + arr[i]\n",
    "    if sum <= num:\n",
    "        if is_prime(sum):\n",
    "            count = count + 1\n",
    "            poss.append(sum)\n",
    "\n",
    "print(count)\n",
    "print(poss)"
   ]
  },
  {
   "cell_type": "code",
   "execution_count": 2,
   "metadata": {},
   "outputs": [
    {
     "name": "stdout",
     "output_type": "stream",
     "text": [
      "left\n",
      "[4, 3]\n",
      "[4, 2]\n",
      "[4, 1]\n",
      "right\n",
      "[4, 5]\n",
      "[4, 6]\n",
      "[4, 7]\n",
      "[4, 8]\n",
      "down\n",
      "[3, 4]\n",
      "[2, 4]\n",
      "[1, 4]\n",
      "up\n",
      "[5, 4]\n",
      "[6, 4]\n",
      "[7, 4]\n",
      "[8, 4]\n",
      "Down left\n",
      "[3, 3]\n",
      "[2, 2]\n",
      "[1, 1]\n",
      "Up right\n",
      "[5, 5]\n",
      "[6, 6]\n",
      "[7, 7]\n",
      "[8, 8]\n",
      "Up left\n",
      "[5, 3]\n",
      "[6, 2]\n",
      "[7, 1]\n",
      "Down right\n",
      "Total :  24\n"
     ]
    }
   ],
   "source": [
    "#program to get number of possibilities for a queen to move when there are obstacles\n",
    "\n",
    "#my code\n",
    "def queensAttack(n, k, r_q, c_q, obstacles):\n",
    "    # Write your code here\n",
    "    count=0\n",
    "    mini=min(r_q,c_q)\n",
    "    maxi=max(r_q,c_q)\n",
    "    #left\n",
    "    print(\"left\")\n",
    "    for i in range(c_q-1,0,-1):\n",
    "        if [r_q,i] in obstacles:\n",
    "            break\n",
    "        count+=1\n",
    "        print([r_q,i])\n",
    "    #right\n",
    "    print(\"right\")\n",
    "    for i in range(c_q+1,n+1):\n",
    "        if [r_q,i] in obstacles:\n",
    "            break\n",
    "        count+=1\n",
    "        print([r_q,i])\n",
    "    #down\n",
    "    print(\"down\")\n",
    "    for i in range(r_q-1,0,-1):\n",
    "        if [i,c_q] in obstacles:\n",
    "            break\n",
    "        count+=1\n",
    "        print([i,c_q])\n",
    "    #up\n",
    "    print(\"up\")\n",
    "    for i in range(r_q+1,n+1):\n",
    "        if [i,c_q] in obstacles:\n",
    "            break\n",
    "        count+=1\n",
    "        print([i,c_q])\n",
    "    #down left\n",
    "    print(\"Down left\")\n",
    "    for i in range(1,mini):\n",
    "        if [r_q-i,c_q-i] in obstacles:\n",
    "            break\n",
    "        count+=1\n",
    "        print([r_q-i,c_q-i])\n",
    "    #up right\n",
    "    print(\"Up right\")\n",
    "    for i in range(1,n-maxi+1):\n",
    "        if [r_q+i,c_q+i] in obstacles:\n",
    "            break\n",
    "        count+=1\n",
    "        print([r_q+i,c_q+i])\n",
    "    #up left\n",
    "    print(\"Up left\")\n",
    "    row,col=r_q+1,c_q-1\n",
    "    while row<=n and col>=1:\n",
    "        if [row,col] in obstacles:\n",
    "            break\n",
    "        count+=1\n",
    "        print([row,col])\n",
    "        row+=1\n",
    "        col-=1\n",
    "    #down right\n",
    "    print(\"Down right\")\n",
    "    row,col=r_q-1,c_q+1\n",
    "    while row>=1 and col<=n:\n",
    "        if [row,col] in obstacles:\n",
    "            break\n",
    "        count+=1\n",
    "        print([row,col])\n",
    "        row-=1\n",
    "        col+=1\n",
    "    return count\n",
    "n=8\n",
    "r_q=4\n",
    "c_q=4\n",
    "k=1\n",
    "obstacles=[[3,5]]\n",
    "print(\"Total : \",queensAttack(n, k, r_q, c_q, obstacles))"
   ]
  },
  {
   "cell_type": "code",
   "execution_count": 3,
   "metadata": {},
   "outputs": [
    {
     "name": "stdout",
     "output_type": "stream",
     "text": [
      "Total :  24\n"
     ]
    }
   ],
   "source": [
    "#one gentleman's code \n",
    "def queensAttack(n, k, r_q, c_q, obstacles):\n",
    "\n",
    "        obstacle_set = set(tuple(x) for x in obstacles)\n",
    "        count = 0\n",
    "        # Check squares in all 8 directions\n",
    "        for i, j in [(1,0),(-1,0),(0,1),(0,-1),(1,1),(-1,-1),(1,-1),(-1,1)]:\n",
    "                row, col = r_q + i, c_q + j\n",
    "\n",
    "                # Keep moving in the same direction until obstacle is found or edge of board is reached\n",
    "                while 1 <= row <= n and 1 <= col <= n:\n",
    "                        if (row, col) not in obstacle_set:\n",
    "                                count += 1\n",
    "                        else:\n",
    "                                break\n",
    "                        row += i\n",
    "                        col += j\n",
    "\n",
    "        return count\n",
    "n=8\n",
    "r_q=4\n",
    "c_q=4\n",
    "k=1\n",
    "obstacles=[[3,5]]\n",
    "print(\"Total : \",queensAttack(n, k, r_q, c_q, obstacles))"
   ]
  },
  {
   "cell_type": "code",
   "execution_count": 1,
   "metadata": {},
   "outputs": [
    {
     "data": {
      "text/plain": [
       "[1,\n",
       " 2,\n",
       " 3,\n",
       " 'M',\n",
       " 'R',\n",
       " 'U',\n",
       " 'H',\n",
       " 4,\n",
       " 5,\n",
       " 'S',\n",
       " 't',\n",
       " 'u',\n",
       " 'd',\n",
       " 'e',\n",
       " 'n',\n",
       " 't',\n",
       " 's',\n",
       " 'G',\n",
       " 'o',\n",
       " 'o',\n",
       " 'd',\n",
       " 6,\n",
       " 7,\n",
       " 8,\n",
       " 9,\n",
       " 69,\n",
       " 's',\n",
       " 't',\n",
       " 'a',\n",
       " 't',\n",
       " 'e',\n",
       " 'T',\n",
       " 'e',\n",
       " 'l',\n",
       " 'a',\n",
       " 'n',\n",
       " 'g',\n",
       " 'a',\n",
       " 'n',\n",
       " 'a']"
      ]
     },
     "execution_count": 1,
     "metadata": {},
     "output_type": "execute_result"
    }
   ],
   "source": [
    "#flattening the nested list into a single list\n",
    "lst=[1,2,3,[\"MRUH\",4,5,[\"Students\",[\"Good\",[6,7]],8,9],69],{\"state\":\"Telangana\"}]\n",
    "def get_flattened_list(lst,result=[]):\n",
    "    types=[list,tuple,dict,set,str]\n",
    "    for element in lst:\n",
    "        if type(element) in types:\n",
    "            if type(element)==str:\n",
    "                result.extend(list(element))\n",
    "            elif type(element)==dict:\n",
    "                get_flattened_list(element.items())\n",
    "            else:\n",
    "                get_flattened_list(element)\n",
    "        else:\n",
    "            result.append(element)\n",
    "    return result\n",
    "get_flattened_list(lst)"
   ]
  },
  {
   "cell_type": "code",
   "execution_count": 2,
   "metadata": {},
   "outputs": [
    {
     "data": {
      "text/plain": [
       "643"
      ]
     },
     "execution_count": 2,
     "metadata": {},
     "output_type": "execute_result"
    }
   ],
   "source": [
    "#adding the sum of elements in a nested list\n",
    "lst=[1,2,3,[4,5,[7,8,9,[120,13,[67,69]]],78,54],203]\n",
    "def get_sum(lst,total=0):\n",
    "    for element in lst:\n",
    "        if type(element)==list:\n",
    "            total+=get_sum(element)\n",
    "        else:\n",
    "            total+=element\n",
    "    return total\n",
    "get_sum(lst)"
   ]
  },
  {
   "cell_type": "code",
   "execution_count": 7,
   "metadata": {},
   "outputs": [
    {
     "name": "stdout",
     "output_type": "stream",
     "text": [
      "Enter the string : Face the failure until the failure fails to face you\n"
     ]
    },
    {
     "data": {
      "text/plain": [
       "{'F': 1,\n",
       " 'a': 5,\n",
       " 'c': 2,\n",
       " 'e': 6,\n",
       " 'f': 4,\n",
       " 'h': 2,\n",
       " 'i': 4,\n",
       " 'l': 4,\n",
       " 'n': 1,\n",
       " 'o': 2,\n",
       " 'r': 2,\n",
       " 's': 1,\n",
       " 't': 4,\n",
       " 'u': 4,\n",
       " 'y': 1}"
      ]
     },
     "execution_count": 7,
     "metadata": {},
     "output_type": "execute_result"
    }
   ],
   "source": [
    "#Getting the occurance of each character in a string\n",
    "#The best way\n",
    "alphabets=\"ABCDEFGHIJKLMNOPQRSTUVWXYZabcdefghijklmnopqrstuvwxyz\"\n",
    "string=input(\"Enter the string : \")\n",
    "dct={}\n",
    "for char in alphabets:\n",
    "    if char in string:\n",
    "        dct[char]=string.count(char)\n",
    "dct"
   ]
  },
  {
   "cell_type": "code",
   "execution_count": 8,
   "metadata": {},
   "outputs": [
    {
     "name": "stdout",
     "output_type": "stream",
     "text": [
      "Enter the birth date (dd-mm-yyyy) : 27-10-2002\n",
      "Enter the present date (dd-mm-yyyy) : 12-04-2023\n",
      "Number of days : 7472\n"
     ]
    }
   ],
   "source": [
    "#calculating the number of days between given two dates\n",
    "from datetime import date\n",
    "d1,m1,y1=[int(x) for x in input(\"Enter the birth date (dd-mm-yyyy) : \").split(\"-\")]\n",
    "d2,m2,y2=[int(x) for x in input(\"Enter the present date (dd-mm-yyyy) : \").split(\"-\")]\n",
    "birth_date=date(y1,m1,d1)\n",
    "present_date=date(y2,m2,d2)\n",
    "total_days=present_date-birth_date\n",
    "print(\"Number of days :\",total_days.days)"
   ]
  },
  {
   "cell_type": "code",
   "execution_count": 12,
   "metadata": {},
   "outputs": [
    {
     "name": "stdout",
     "output_type": "stream",
     "text": [
      "Starting time : 12 40\n",
      "Journey time :5 30\n",
      "Ending Time : 18 10\n"
     ]
    }
   ],
   "source": [
    "#calculation journey ending time with starting time and journey time (considering 24 hours time)\n",
    "starting_time=[int(x) for x in input(\"Starting time : \").split()]\n",
    "journey_time=[int(x) for x in input(\"Journey time :\").split()]\n",
    "ending_time=[0,0]\n",
    "ending_time[0]=starting_time[0]+journey_time[0]\n",
    "ending_time[1]=starting_time[1]+journey_time[1]\n",
    "ending_time[0]+=ending_time[1]//60\n",
    "ending_time[0]=ending_time[0]%24\n",
    "ending_time[1]=ending_time[1]%60\n",
    "print(\"Ending Time :\",ending_time[0],ending_time[1])"
   ]
  },
  {
   "cell_type": "code",
   "execution_count": 37,
   "metadata": {},
   "outputs": [
    {
     "name": "stdout",
     "output_type": "stream",
     "text": [
      "Enter number of Baskets : 5\n",
      "Enter the number of apples in Basket 1 : 7\n",
      "Enter the number of apples in Basket 2 : 3\n",
      "Enter the number of apples in Basket 3 : 6\n",
      "Enter the number of apples in Basket 4 : 12\n",
      "Enter the number of apples in Basket 5 : 5\n",
      "Enter number of apples to be taken : 15\n"
     ]
    },
    {
     "data": {
      "text/plain": [
       "True"
      ]
     },
     "execution_count": 37,
     "metadata": {},
     "output_type": "execute_result"
    }
   ],
   "source": [
    "# target number of apples are to be taken out from any number of baskets but the condition is that basket has to be made empty if it is touched\n",
    "n=int(input(\"Enter number of Baskets : \"))\n",
    "lst=[]\n",
    "for i in range(1,n+1):\n",
    "    val=int(input(f\"Enter the number of apples in Basket {i} : \"))\n",
    "    lst.append(val)\n",
    "target=int(input(\"Enter number of apples to be taken : \"))\n",
    "def isPossible(lst,target):\n",
    "    if target==0:\n",
    "        return True\n",
    "    elif len(lst)==1:\n",
    "        if sum(lst)==target:\n",
    "            return True\n",
    "        else:\n",
    "            return False\n",
    "    else:\n",
    "        for index in range(len(lst)):\n",
    "            sub_lst=lst.copy()\n",
    "            if sum(sub_lst)==target:\n",
    "                return True\n",
    "            else:\n",
    "                sub_lst.pop(index)\n",
    "                result=isPossible(sub_lst,target)\n",
    "            if result:\n",
    "                return True\n",
    "    return result\n",
    "isPossible(lst,target)"
   ]
  },
  {
   "cell_type": "code",
   "execution_count": 8,
   "metadata": {},
   "outputs": [
    {
     "name": "stdout",
     "output_type": "stream",
     "text": [
      "Enter the number of stairs : 5\n",
      "Enter the maximum jump : 2\n",
      "Number of possible ways : 5\n",
      "Possibilities : [[1, 1, 1, 1, 1], [1, 1, 1, 2], [1, 1, 2, 1], [1, 2, 1, 1], [1, 2, 2]]\n"
     ]
    }
   ],
   "source": [
    "#There are n stairs, and you are standing on the first one. \n",
    "#From each step i, you can take a maximum jump of k steps (i+1, i+2, i+3, ..., i+k), \n",
    "#but you cannot jump over the last step (stair number n). \n",
    "#Your task is to calculate the number of possible ways to reach the nth step.\n",
    "\n",
    "possibilities=[]\n",
    "def getPossibles(cur,n,k,count=0,sublst=\"1\"):\n",
    "    temp=sublst\n",
    "    for i in range(1,k+1):\n",
    "        sublst=temp\n",
    "        sublst+=\" \"+str(i)\n",
    "        if cur+i==n:\n",
    "            count+=1\n",
    "            possibilities.append([int(x) for x in sublst.split()])\n",
    "            return count\n",
    "        elif cur+i<n:\n",
    "            count=getPossibles(cur+i,n,k,count,sublst)\n",
    "        else:\n",
    "            return count\n",
    "    return count\n",
    "\n",
    "\n",
    "n=int(input(\"Enter the number of stairs : \"))\n",
    "k=int(input(\"Enter the maximum jump : \"))\n",
    "cur=1\n",
    "result=getPossibles(cur,n,k)\n",
    "print(\"Number of possible ways :\",result)\n",
    "print(\"Possibilities :\",possibilities)"
   ]
  },
  {
   "cell_type": "code",
   "execution_count": 4,
   "metadata": {},
   "outputs": [
    {
     "name": "stdout",
     "output_type": "stream",
     "text": [
      "0\n"
     ]
    }
   ],
   "source": [
    "def isSorted(arr):\n",
    "    for i in range(len(arr)-1):\n",
    "        if arr[i]>arr[i+1]:\n",
    "            return False\n",
    "    return True\n",
    "def getElementIndex(index,arr):\n",
    "    temp=arr\n",
    "    temp.sort()\n",
    "    element=temp[index]\n",
    "    return arr.index(element)\n",
    "def lilysHomework(arr):\n",
    "    # Write your code here\n",
    "    count=0\n",
    "    i=0\n",
    "    while not isSorted(arr):\n",
    "        smallest=getElementIndex(i,arr)\n",
    "        if smallest!=i:\n",
    "            arr[i],arr[smallest]=arr[smallest],arr[i]\n",
    "            count+=1\n",
    "        i+=1\n",
    "    return count\n",
    "result=lilysHomework([2,5,3,1])\n",
    "print(result)"
   ]
  },
  {
   "cell_type": "code",
   "execution_count": 16,
   "metadata": {},
   "outputs": [
    {
     "name": "stdout",
     "output_type": "stream",
     "text": [
      "1 6 11 16 21 22 23 24 25 20 15 10 5 4 3 2 7 12 17 18 19 14 9 8 13 \n",
      "Visited : 25\n"
     ]
    }
   ],
   "source": [
    "#printing 2D array in anti-clock wise direction\n",
    "arr=[\n",
    "    [1,2,3,4,5],\n",
    "    [6,7,8,9,10],\n",
    "    [11,12,13,14,15],\n",
    "    [16,17,18,19,20],\n",
    "    [21,22,23,24,25]\n",
    "]\n",
    "def print_anti_clock_array(arr):\n",
    "    left=top=0\n",
    "    right=len(arr[0])-1\n",
    "    bottom=len(arr)-1\n",
    "    total=(bottom+1)*(right+1)\n",
    "    count=0\n",
    "    while count<total:\n",
    "        for i in range(top,bottom+1):\n",
    "            val=arr[i][left]\n",
    "            print(val,end=\" \")\n",
    "            count+=1\n",
    "        left+=1\n",
    "        \n",
    "        for i in range(left,right+1):\n",
    "            val=arr[bottom][i]\n",
    "            print(val,end=\" \")\n",
    "            count+=1\n",
    "        bottom-=1\n",
    "        \n",
    "        for i in range(bottom,top-1,-1):\n",
    "            val=arr[i][right]\n",
    "            print(val,end=\" \")\n",
    "            count+=1\n",
    "        right-=1\n",
    "        \n",
    "        for i in range(right,left-1,-1):\n",
    "            val=arr[top][i]\n",
    "            print(val,end=\" \")\n",
    "            count+=1\n",
    "        top+=1\n",
    "    print(\"\\nVisited :\",count)\n",
    "print_anti_clock_array(arr)"
   ]
  },
  {
   "cell_type": "code",
   "execution_count": 15,
   "metadata": {},
   "outputs": [
    {
     "name": "stdout",
     "output_type": "stream",
     "text": [
      "1 2 3 4 5 10 15 20 25 30 29 28 27 26 21 16 11 6 7 8 9 14 19 24 23 22 17 12 13 18 \n",
      "Visited : 30\n"
     ]
    }
   ],
   "source": [
    "#printing 2D array in clock wise direction\n",
    "arr=[\n",
    "    [1,2,3,4,5],\n",
    "    [6,7,8,9,10],\n",
    "    [11,12,13,14,15],\n",
    "    [16,17,18,19,20],\n",
    "    [21,22,23,24,25],\n",
    "    [26,27,28,29,30]\n",
    "]\n",
    "def print_clock_array(arr):\n",
    "    left=top=0\n",
    "    right=len(arr[0])-1\n",
    "    bottom=len(arr)-1\n",
    "    total=(bottom+1)*(right+1)\n",
    "    count=0\n",
    "    while count<total:\n",
    "        for i in range(left,right+1):\n",
    "            val=arr[top][i]\n",
    "            print(val,end=\" \")\n",
    "            count+=1\n",
    "        top+=1\n",
    "        \n",
    "        for i in range(top,bottom+1):\n",
    "            val=arr[i][right]\n",
    "            print(val,end=\" \")\n",
    "            count+=1\n",
    "        right-=1\n",
    "        \n",
    "        for i in range(right,left-1,-1):\n",
    "            val=arr[bottom][i]\n",
    "            print(val,end=\" \")\n",
    "            count+=1\n",
    "        bottom-=1\n",
    "        \n",
    "        for i in range(bottom,top-1,-1):\n",
    "            val=arr[i][left]\n",
    "            print(val,end=\" \")\n",
    "            count+=1\n",
    "        left+=1\n",
    "    print(\"\\nVisited :\",count)\n",
    "print_clock_array(arr)"
   ]
  },
  {
   "cell_type": "code",
   "execution_count": 2,
   "metadata": {},
   "outputs": [
    {
     "name": "stdout",
     "output_type": "stream",
     "text": [
      "Programming python love I\n"
     ]
    }
   ],
   "source": [
    "#Reversing the words of a string\n",
    "string=\"I love python Programming\"\n",
    "def reverse_string(string):\n",
    "    lst=string.split()\n",
    "    lst.reverse()\n",
    "    rev_string=\"\"\n",
    "    for i in range(len(lst)):\n",
    "        if i==len(lst)-1:\n",
    "            rev_string+=lst[i]\n",
    "        else:\n",
    "            rev_string+=lst[i]+\" \"\n",
    "    return rev_string\n",
    "result=reverse_string(string)\n",
    "print(result)"
   ]
  },
  {
   "cell_type": "code",
   "execution_count": 68,
   "metadata": {},
   "outputs": [
    {
     "name": "stdout",
     "output_type": "stream",
     "text": [
      "3\n"
     ]
    }
   ],
   "source": [
    "# counting the minimum number of steps required to empty the stack of woods\n",
    "# conditions : \n",
    "# 1. one can remove only one wood at a time\n",
    "# 2. one can remove any number of continous woods with similar color\n",
    "woods=['red','white','red','red','white','red']\n",
    "def emptyTheWoods(woods,steps=0,min_steps=len(woods)):\n",
    "    if len(woods)==1:\n",
    "        woods.clear()\n",
    "        return min(min_steps,steps+1)\n",
    "    else:\n",
    "        prev=woods[0]\n",
    "        max_count=1\n",
    "        count=1\n",
    "        for index in range(1,len(woods)):\n",
    "            temp=woods.copy()\n",
    "            step=steps\n",
    "            if prev==woods[index]:\n",
    "                count+=1\n",
    "                if count>max_count:\n",
    "                    max_count=count\n",
    "                if max_count==len(woods):\n",
    "                    woods.clear()\n",
    "                    return min(min_steps,step+1)\n",
    "            else:\n",
    "                for i in range(max_count):\n",
    "                    temp.pop(index-i-1)\n",
    "                step+=1\n",
    "                count=1\n",
    "                max_count=1\n",
    "                min_steps=emptyTheWoods(temp,step,min_steps)\n",
    "                prev=woods[index]\n",
    "    return min_steps\n",
    "print(emptyTheWoods(woods))"
   ]
  },
  {
   "cell_type": "code",
   "execution_count": 17,
   "metadata": {},
   "outputs": [
    {
     "name": "stdout",
     "output_type": "stream",
     "text": [
      "[5, 24]\n"
     ]
    }
   ],
   "source": [
    "#Given a sorted array of n integers and a value x. Find the pair of elements from the array such that the sum of the elements is closest to the given value x.\n",
    "lst=[3,5,9,17,23,24,34,67,75,89,98]\n",
    "target=30\n",
    "pair=[]\n",
    "difference=max(lst)\n",
    "for i in range(len(lst)-1):\n",
    "    for j in range(i+1,len(lst)):\n",
    "        diff=abs(target-(lst[i]+lst[j]))\n",
    "        if diff<difference:\n",
    "            difference=diff\n",
    "            pair=[lst[i],lst[j]]\n",
    "print(pair)       "
   ]
  },
  {
   "cell_type": "code",
   "execution_count": 67,
   "metadata": {},
   "outputs": [
    {
     "name": "stdout",
     "output_type": "stream",
     "text": [
      "3\n"
     ]
    }
   ],
   "source": [
    "# counting minimum number of steps taken to empty the string\n",
    "#conditions:\n",
    "#    1. if there are continous character repition then a single set of contious characters can be removed at a time\n",
    "#    2. otherwise only one character should be removed at a time\n",
    "def get_result(string_list,step_count=0,min_steps=len(string)):\n",
    "    if len(string_list)==1:\n",
    "        string_list.clear()\n",
    "        step_count+=1\n",
    "        return min(step_count,min_steps)\n",
    "    else:\n",
    "        prev=string_list[0]\n",
    "        count=1\n",
    "        max_count=1\n",
    "        for index in range(1,len(string_list)):\n",
    "            lst=string_list.copy()\n",
    "            step = step_count\n",
    "            if prev==string_list[index]:\n",
    "                count+=1\n",
    "                if count>max_count:\n",
    "                    max_count=count\n",
    "                if max_count==len(lst): #to handle cases such as \"aaa\", \"baaa\",...etc\n",
    "                    step+=1\n",
    "                    lst.clear()\n",
    "                    return min(step,min_steps)\n",
    "            else:\n",
    "                for i in range(max_count):\n",
    "                    lst.pop(index-i-1)\n",
    "                step+=1\n",
    "                min_steps=get_result(lst,step,min_steps)\n",
    "                count=1\n",
    "                max_count=1\n",
    "            prev=string_list[index]\n",
    "        return min_steps\n",
    "\n",
    "string=\"abaca\"    \n",
    "result=get_result(list(string))\n",
    "print(result)"
   ]
  },
  {
   "cell_type": "code",
   "execution_count": 1,
   "metadata": {},
   "outputs": [
    {
     "name": "stdout",
     "output_type": "stream",
     "text": [
      "30\n"
     ]
    }
   ],
   "source": [
    "# Helping a to win the game\n",
    "# conditions : \n",
    "#    1. Even number of values are present\n",
    "#    2. Only corner values are to be picked i.e either left most or right most\n",
    "#    3. 'A' will pick the value first\n",
    "scores=[10,2,20,11]\n",
    "def get_score(scores,a_score=0,b_score=0,a_maximum=0):\n",
    "    if len(scores)==0:\n",
    "        if a_score>a_maximum:\n",
    "            return a_score\n",
    "    else:\n",
    "        for i in range(2):\n",
    "            a=a_score\n",
    "            b=b_score\n",
    "            lst = scores.copy()\n",
    "            if i==0:\n",
    "                a_maxi=max(lst[0],lst[len(lst)-1])\n",
    "                a+=a_maxi\n",
    "                lst.remove(a_maxi)\n",
    "                b_maxi=max(lst[0],lst[len(lst)-1])\n",
    "                b+=b_maxi\n",
    "                lst.remove(b_maxi)\n",
    "                a_maximum=get_score(lst,a,b,a_maximum)\n",
    "            else:\n",
    "                a_mini = min(lst[0], lst[len(lst) - 1])\n",
    "                a += a_mini\n",
    "                lst.remove(a_mini)\n",
    "                b_maxi = max(lst[0], lst[len(lst) - 1])\n",
    "                b += b_maxi\n",
    "                lst.remove(b_maxi)\n",
    "                a_maximum=get_score(lst, a, b,a_maximum)\n",
    "    return a_maximum\n",
    "result=get_score(scores)\n",
    "print(result)"
   ]
  },
  {
   "cell_type": "code",
   "execution_count": 1,
   "metadata": {},
   "outputs": [
    {
     "name": "stdout",
     "output_type": "stream",
     "text": [
      "3\n"
     ]
    }
   ],
   "source": [
    "#getting the size of largest sub-matrix possible with same values\n",
    "def isSubMatrixPossible(matrix,row,col,size,value):\n",
    "    m=len(matrix)\n",
    "    n=len(matrix[0])\n",
    "    if col+size<=m and row+size<=n:\n",
    "        for i in range(row,row+size):\n",
    "            for j in range(col,col+size):\n",
    "                if matrix[i][j]!=value:\n",
    "                    return False\n",
    "        return True\n",
    "    return False\n",
    "\n",
    "def getSubMatrix(matrix):\n",
    "    high=min(len(matrix),len(matrix[0]))\n",
    "    max_submatrix=0\n",
    "    for i in range(2,high+1):\n",
    "        isPossible=False\n",
    "        for j in range(len(matrix)):\n",
    "            start_index=0\n",
    "            max_len=1\n",
    "            count=1\n",
    "            prev=matrix[j][0]\n",
    "            for k in range(1,len(matrix[0])):\n",
    "                value=matrix[j][k]\n",
    "                if value==prev:\n",
    "                    if count==1:\n",
    "                        start_index=k-1\n",
    "                    count+=1\n",
    "                    if count>max_len:\n",
    "                        max_len=count\n",
    "                        if max_len==i:\n",
    "                            isPossible=isSubMatrixPossible(matrix,j,start_index,i,value)\n",
    "                            if isPossible:\n",
    "                                max_submatrix=i\n",
    "                                break\n",
    "                else:\n",
    "                    prev=value\n",
    "                    count=1\n",
    "                    max_len=1\n",
    "            if isPossible:\n",
    "                break\n",
    "    return max_submatrix\n",
    "\n",
    "matrix=[\n",
    "    [0,1,0,1,0],\n",
    "    [0,1,1,1,1],\n",
    "    [0,1,1,1,0],\n",
    "    [0,1,1,1,0],\n",
    "    [1,0,1,0,1]\n",
    "]\n",
    "result=getSubMatrix(matrix)\n",
    "print(result)"
   ]
  },
  {
   "cell_type": "code",
   "execution_count": 2,
   "metadata": {},
   "outputs": [
    {
     "name": "stdout",
     "output_type": "stream",
     "text": [
      "[1, 3, 2]\n",
      "[1, 2, 1]\n",
      "[1, 1, 1]\n"
     ]
    }
   ],
   "source": [
    "#get the sub-square matrix of size m*m\n",
    "#every value of sub-matrix<=m\n",
    "def isSubMatrixPossible(matrix,row,col,size):\n",
    "    sub_matrix=[]\n",
    "    m=len(matrix)\n",
    "    n=len(matrix[0])\n",
    "    if col+size<=m and row+size<=n:\n",
    "        for i in range(row,row+size):\n",
    "            temp=[]\n",
    "            for j in range(col,col+size):\n",
    "                if matrix[i][j]>size:\n",
    "                    return False,[]\n",
    "                temp.append(matrix[i][j])\n",
    "            sub_matrix.append(temp)\n",
    "        return True,sub_matrix\n",
    "    return False,[]\n",
    "\n",
    "def getSubMatrix(matrix):\n",
    "    high=min(len(matrix),len(matrix[0]))\n",
    "    sub_matrix=[]\n",
    "    for i in range(2,high+1):\n",
    "        isPossible=False\n",
    "        for j in range(len(matrix)):\n",
    "            start_index=0\n",
    "            max_len=0\n",
    "            count=0\n",
    "            prev=matrix[j][0]\n",
    "            for k in range(1,len(matrix[0])):\n",
    "                value=matrix[j][k]\n",
    "                if value<=i:\n",
    "                    if count==0:\n",
    "                        start_index=k\n",
    "                    count+=1\n",
    "                    if count>max_len:\n",
    "                        max_len=count\n",
    "                        if max_len==i:\n",
    "                            isPossible,temp=isSubMatrixPossible(matrix,j,start_index,i)\n",
    "                            if isPossible:\n",
    "                                sub_matrix=temp\n",
    "                                break\n",
    "                else:\n",
    "                    prev=value\n",
    "                    count=1\n",
    "                    max_len=1\n",
    "            if isPossible:\n",
    "                break\n",
    "    return sub_matrix\n",
    "\n",
    "\n",
    "\n",
    "matrix=[\n",
    "    [5,6,2,1,9],\n",
    "    [7,1,3,2,6],\n",
    "    [2,1,2,1,5],\n",
    "    [4,1,1,1,2],\n",
    "    [5,8,2,3,7]\n",
    "]\n",
    "result=getSubMatrix(matrix)\n",
    "if len(result)!=0:\n",
    "    for row in result:\n",
    "        print(row)\n",
    "else:\n",
    "    print([])"
   ]
  },
  {
   "cell_type": "code",
   "execution_count": 20,
   "metadata": {},
   "outputs": [
    {
     "name": "stdout",
     "output_type": "stream",
     "text": [
      "Enter a number : 3145\n",
      "[3154, 3415, 3451, 3514, 3541, 4315, 4351, 4135, 4153, 4531, 4513, 5314, 5341, 5134, 5143, 5431, 5413]\n"
     ]
    }
   ],
   "source": [
    "# get all the possibilities for a given number so that new numbers are greater than given numbers\n",
    "#i.e 213 --> [231, 321, 312]\n",
    "def getMaxNumberPossibilities(n,lst=[],possibilities=[],num1=0):\n",
    "    if len(lst)==0:\n",
    "        if num1>n:\n",
    "            possibilities.append(num1)\n",
    "            return possibilities\n",
    "    else:\n",
    "        for i in range(len(lst)):\n",
    "            temp=lst.copy()\n",
    "            num=num1\n",
    "            num=num*10+lst[i]\n",
    "            temp.pop(i)\n",
    "            possibilities=getMaxNumberPossibilities(n,temp,possibilities,num)\n",
    "    return possibilities\n",
    "n=int(input(\"Enter a number : \"))\n",
    "result=getMaxNumberPossibilities(n,[int(x) for x in list(str(n))])\n",
    "print(result)"
   ]
  },
  {
   "cell_type": "code",
   "execution_count": 11,
   "metadata": {},
   "outputs": [
    {
     "name": "stdout",
     "output_type": "stream",
     "text": [
      "Enter the value of n(length) : 5\n",
      "Enter the value of k(maximum value) : 20\n",
      "Total no. of possibilities :  10\n",
      "[[1, 2, 4, 8, 16], [1, 2, 4, 8, 17], [1, 2, 4, 8, 18], [1, 2, 4, 8, 19], [1, 2, 4, 8, 20], [1, 2, 4, 9, 18], [1, 2, 4, 9, 19], [1, 2, 4, 9, 20], [1, 2, 4, 10, 20], [1, 2, 5, 10, 20]]\n"
     ]
    }
   ],
   "source": [
    "# get all the possible lists of size 'n' where \n",
    "# every element of a list should be >= previous element \n",
    "# first element of list should be 1\n",
    "# last element of list should be <= k\n",
    "n=int(input(\"Enter the value of n(length) : \"))\n",
    "k=int(input(\"Enter the value of k(maximum value) : \"))\n",
    "def getPossibilities(n,k,lst=[1,],possibilities=[]):\n",
    "    if len(lst)==n:\n",
    "        if lst[-1]<=k:\n",
    "            possibilities.append(lst)\n",
    "            return True,possibilities\n",
    "        else:\n",
    "            return False,possibilities\n",
    "    else:\n",
    "        i=0\n",
    "        prevIncrement=False\n",
    "        increment=True\n",
    "        while increment:\n",
    "            new_element=lst[-1]*2+i\n",
    "            increment,possibilities=getPossibilities(n,k,lst+[new_element],possibilities)\n",
    "            i+=1\n",
    "            if increment:\n",
    "                prevIncrement=True\n",
    "        return prevIncrement,possibilities\n",
    "pos,possibilities=getPossibilities(n,k)\n",
    "print(\"Total no. of possibilities : \",len(possibilities))\n",
    "print(possibilities)"
   ]
  },
  {
   "cell_type": "code",
   "execution_count": 21,
   "metadata": {},
   "outputs": [
    {
     "name": "stdout",
     "output_type": "stream",
     "text": [
      "Enter the value of n(length) : 5\n",
      "Enter the value of k(maximum value) : 20\n",
      "Total no. of possibilities :  10\n",
      "[[1, 2, 4, 8, 16], [1, 2, 4, 8, 17], [1, 2, 4, 8, 18], [1, 2, 4, 8, 19], [1, 2, 4, 8, 20], [1, 2, 4, 9, 18], [1, 2, 4, 9, 19], [1, 2, 4, 9, 20], [1, 2, 4, 10, 20], [1, 2, 5, 10, 20]]\n"
     ]
    }
   ],
   "source": [
    "# another method\n",
    "n=int(input(\"Enter the value of n(length) : \"))\n",
    "k=int(input(\"Enter the value of k(maximum value) : \"))\n",
    "possibilities=[]\n",
    "def getPossibilities(n,k,lst=[1,],increment=False):\n",
    "    global possibilities\n",
    "    if len(lst)==n:\n",
    "        if lst[-1]<=k:\n",
    "            possibilities.append(lst)\n",
    "            return True\n",
    "        else:\n",
    "            return False\n",
    "    else:\n",
    "        i=0\n",
    "        prevIncrement=False\n",
    "        possibility=True\n",
    "        while possibility:\n",
    "            new_element=lst[-1]*2+i\n",
    "            possibility=getPossibilities(n,k,lst+[new_element])\n",
    "            i+=1\n",
    "            if possibility:\n",
    "                prevIncrement=True\n",
    "        if prevIncrement:\n",
    "            return True\n",
    "        else:\n",
    "            return False\n",
    "getPossibilities(n,k)\n",
    "print(\"Total no. of possibilities : \",len(possibilities))\n",
    "print(possibilities)"
   ]
  },
  {
   "cell_type": "code",
   "execution_count": 68,
   "metadata": {},
   "outputs": [
    {
     "name": "stdout",
     "output_type": "stream",
     "text": [
      "[[1, 2, 4, 8, 16], [1, 2, 4, 8, 17], [1, 2, 4, 8, 18], [1, 2, 4, 8, 19], [1, 2, 4, 8, 20], [1, 2, 4, 9, 18], [1, 2, 4, 9, 19], [1, 2, 4, 9, 20], [1, 2, 4, 10, 20], [1, 2, 5, 10, 20]]\n"
     ]
    }
   ],
   "source": [
    "# code by bing chatbot\n",
    "def generate_lists(n, k):\n",
    "  # Initialize an empty list to store the results\n",
    "  result = []\n",
    "  # Define a helper function to recursively build the lists\n",
    "  def helper(curr, last):\n",
    "    # Base case: if the current list has n elements, add it to the result\n",
    "    if len(curr) == n:\n",
    "      result.append(curr)\n",
    "      return\n",
    "    # Recursive case: loop through the possible values for the next element\n",
    "    for i in range(last * 2, k + 1):\n",
    "      # Append the next element to the current list and call the helper function\n",
    "      helper(curr + [i], i)\n",
    "  # Start with the first element as 1 and call the helper function\n",
    "  helper([1], 1)\n",
    "  # Return the result list\n",
    "  return result\n",
    "\n",
    "# Test the function with some examples\n",
    "result=generate_lists(5, 20)\n",
    "print(result)"
   ]
  },
  {
   "cell_type": "code",
   "execution_count": 2,
   "metadata": {},
   "outputs": [
    {
     "data": {
      "text/plain": [
       "12"
      ]
     },
     "execution_count": 2,
     "metadata": {},
     "output_type": "execute_result"
    }
   ],
   "source": [
    "# find the minimum distance required from one node to another node if distance between two connected nodes is 6\n",
    "graph = {\n",
    "  '5' : ['3','7'],\n",
    "  '3' : ['2', '4'],\n",
    "  '7' : ['8'],\n",
    "  '2' : [],\n",
    "  '4' : ['8'],\n",
    "  '8' : []\n",
    "}\n",
    "def shortestDistance(start,end,route,distance=0,short_dist=-1,visited=dict()):\n",
    "    if start==end or start not in route.keys():\n",
    "        return max(short_dist, distance) if short_dist == -1 else min(short_dist, distance)\n",
    "    else:\n",
    "        if start not in visited.keys() or visited[start]>distance:\n",
    "            visited[start]=distance\n",
    "            for dest in route[start]:\n",
    "                short_dist=shortestDistance(dest,end,route,distance+6,short_dist)\n",
    "    return short_dist\n",
    "shortestDistance('5','8',graph)"
   ]
  },
  {
   "cell_type": "code",
   "execution_count": 4,
   "metadata": {},
   "outputs": [
    {
     "name": "stdout",
     "output_type": "stream",
     "text": [
      "Minimum steps required: 3\n"
     ]
    }
   ],
   "source": [
    "#to get minimum number of steps to convert a given string into a target string\n",
    "#operations allowed : insertion,deletion, and replace\n",
    "def min_steps(source, target):\n",
    "    m=len(source)\n",
    "    n=len(target)\n",
    "    db=[[0]*(n+1) for i in range(m+1)]\n",
    "    for i in range(m+1):\n",
    "        db[i][0]=i\n",
    "    for i in range(n+1):\n",
    "        db[0][i]=i\n",
    "    for i in range(1,m+1):\n",
    "        for j in range(1,n+1):\n",
    "            if source[i-1]==target[j-1]:\n",
    "                db[i][j]=db[i-1][j-1]\n",
    "            else:\n",
    "                db[i][j]=1+min(db[i-1][j],db[i][j-1],db[i-1][j-1])\n",
    "    return db[m][n]\n",
    "\n",
    "# Test the function\n",
    "source = \"kitten\"\n",
    "target = \"sitting\"\n",
    "steps = min_steps(source, target)\n",
    "print(f\"Minimum steps required: {steps}\")"
   ]
  },
  {
   "cell_type": "code",
   "execution_count": 3,
   "metadata": {},
   "outputs": [],
   "source": [
    "# Program to get the maximum distance from a given point in a birectional tree and each node must be visited only once"
   ]
  },
  {
   "attachments": {
    "Screenshot%202023-07-21%20224704.png": {
     "image/png": "[encoded data removed]"
    }
   },
   "cell_type": "markdown",
   "metadata": {},
   "source": [
    "![Screenshot%202023-07-21%20224704.png](attachment:Screenshot%202023-07-21%20224704.png)"
   ]
  },
  {
   "cell_type": "code",
   "execution_count": 16,
   "metadata": {},
   "outputs": [
    {
     "name": "stdout",
     "output_type": "stream",
     "text": [
      "[6, 7, 8, 5]\n"
     ]
    }
   ],
   "source": [
    "def longDrive(edges, query):\n",
    "    # code here\n",
    "    graph = dict()\n",
    "    answers = []\n",
    "    for start, end, distance in edges:\n",
    "        if start not in graph.keys():\n",
    "            graph[start] = [(end, distance)]\n",
    "        if end not in graph.keys():\n",
    "            graph[end]=[(start, distance)]\n",
    "        if start in graph.keys() and (end,distance) not in graph[start]:\n",
    "            graph[start].append((end,distance))\n",
    "        if end in graph.keys() and (start,distance) not in graph[end]:\n",
    "            graph[end].append((start,distance))\n",
    "    for start in query:\n",
    "        answers.append(getSolution(graph, start,visited=[]))\n",
    "    return answers\n",
    "\n",
    "def getSolution( graph, start, distance=0, prev_dist=0, maxDistance=0,visited=[]):\n",
    "    if start not in visited:\n",
    "        visited.append(start)\n",
    "        distance+=prev_dist\n",
    "        for neighbour, dist in graph[start]:\n",
    "            maxDistance = getSolution(graph, neighbour, distance, dist, maxDistance,visited)\n",
    "    return max(distance, maxDistance)\n",
    "edges=[[1, 5, 3],\n",
    "       [2, 5, 3],\n",
    "       [1, 4, 2],\n",
    "       [5, 3, 2]]\n",
    "query=[1, 3, 4, 5]\n",
    "result=longDrive(edges,query)\n",
    "print(result)"
   ]
  },
  {
   "cell_type": "code",
   "execution_count": null,
   "metadata": {},
   "outputs": [],
   "source": []
  }
 ],
 "metadata": {
  "kernelspec": {
   "display_name": "Python 3",
   "language": "python",
   "name": "python3"
  },
  "language_info": {
   "codemirror_mode": {
    "name": "ipython",
    "version": 3
   },
   "file_extension": ".py",
   "mimetype": "text/x-python",
   "name": "python",
   "nbconvert_exporter": "python",
   "pygments_lexer": "ipython3",
   "version": "3.8.8"
  }
 },
 "nbformat": 4,
 "nbformat_minor": 4
}
