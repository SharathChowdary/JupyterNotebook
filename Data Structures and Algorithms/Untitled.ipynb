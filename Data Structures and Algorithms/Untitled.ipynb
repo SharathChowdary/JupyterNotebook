{
 "cells": [
  {
   "cell_type": "code",
   "execution_count": 1,
   "id": "6fe5e716",
   "metadata": {},
   "outputs": [],
   "source": [
    "graph = {\n",
    "  '5' : ['3','7'],\n",
    "  '3' : ['2', '4'],\n",
    "  '7' : ['8'],\n",
    "  '2' : [],\n",
    "  '4' : ['8'],\n",
    "  '8' : []\n",
    "}"
   ]
  },
  {
   "cell_type": "code",
   "execution_count": 4,
   "id": "c2333528",
   "metadata": {},
   "outputs": [
    {
     "name": "stdout",
     "output_type": "stream",
     "text": [
      "5 3 7 2 4 8 "
     ]
    }
   ],
   "source": [
    "def BFS(node):\n",
    "    visited = []\n",
    "    queue = []\n",
    "    queue.append(node)\n",
    "    visited.append(node)\n",
    "    while queue:\n",
    "        m = queue.pop(0)\n",
    "        print(m, end = \" \")\n",
    "        for neighbour in graph[m]:\n",
    "            if neighbour not in visited:\n",
    "                queue.append(neighbour)\n",
    "                visited.append(neighbour)\n",
    "BFS('5')"
   ]
  },
  {
   "cell_type": "code",
   "execution_count": 6,
   "id": "0eceb333",
   "metadata": {},
   "outputs": [
    {
     "name": "stdout",
     "output_type": "stream",
     "text": [
      "5 3 2 4 8 7 "
     ]
    }
   ],
   "source": [
    "def DFS(node, visited = []):\n",
    "    if node not in visited:\n",
    "        visited.append(node)\n",
    "        print(node, end = \" \")\n",
    "        for neighbour in graph[node]:\n",
    "            DFS(neighbour)\n",
    "DFS('5')"
   ]
  },
  {
   "cell_type": "code",
   "execution_count": 7,
   "id": "db5e3142",
   "metadata": {},
   "outputs": [
    {
     "name": "stdout",
     "output_type": "stream",
     "text": [
      "34 found at index 3\n"
     ]
    }
   ],
   "source": [
    "lst = [45, 12, 87, 34, 90, 47, 7, 18, 31, 17, 3, 69]\n",
    "def LinearSearch(target, lst):\n",
    "    for i in range(len(lst)):\n",
    "        if lst[i] == target:\n",
    "            return i\n",
    "    return -1\n",
    "\n",
    "target = 34\n",
    "result = LinearSearch(target, lst)\n",
    "if result == -1:\n",
    "    print(\"Element not found\")\n",
    "else:\n",
    "    print(f\"{target} found at index {result}\")"
   ]
  },
  {
   "cell_type": "code",
   "execution_count": 15,
   "id": "72a428a3",
   "metadata": {},
   "outputs": [
    {
     "name": "stdout",
     "output_type": "stream",
     "text": [
      "90 found at index 11\n"
     ]
    }
   ],
   "source": [
    "lst = [3, 7, 12, 17, 18, 31, 34, 45, 47, 69, 87, 90]\n",
    "def BinarySearch(target, lst):\n",
    "    left = 0\n",
    "    right = len(lst) - 1\n",
    "    while left <= right:\n",
    "        middle = (left + right) // 2\n",
    "        if lst[middle] == target:\n",
    "            return middle\n",
    "        elif lst[middle] > target:\n",
    "            right = middle - 1\n",
    "        else:\n",
    "            left = middle + 1\n",
    "    return -1\n",
    "\n",
    "def BinarySearchRec(target, lst, left, right):\n",
    "    if left <= right:\n",
    "        middle = (left + right) // 2\n",
    "        if lst[middle] == target:\n",
    "            return middle\n",
    "        elif lst[middle] > target:\n",
    "            return BinarySearchRec(target, lst, left, middle - 1)\n",
    "        else:\n",
    "            return BinarySearchRec(target, lst, middle + 1, right)\n",
    "    return -1\n",
    "\n",
    "target = 90\n",
    "result = BinarySearchRec(target, lst, 0, len(lst))\n",
    "if result == -1:\n",
    "    print(\"Element not found\")\n",
    "else:\n",
    "    print(f\"{target} found at index {result}\")"
   ]
  },
  {
   "cell_type": "code",
   "execution_count": 18,
   "id": "7d6bad29",
   "metadata": {},
   "outputs": [
    {
     "data": {
      "text/plain": [
       "[3, 7, 12, 17, 18, 31, 34, 34, 45, 45, 47, 69, 87, 87, 90]"
      ]
     },
     "execution_count": 18,
     "metadata": {},
     "output_type": "execute_result"
    }
   ],
   "source": [
    "lst = [45, 12, 87, 34, 90, 47, 7, 18, 31, 17, 3, 69, 87, 45, 34]\n",
    "def AscOrd(lst):\n",
    "    for i in range(1, len(lst)):\n",
    "        for j in range(i):\n",
    "            if lst[j] > lst[i]:\n",
    "                lst[j], lst[i] = lst[i], lst[j]\n",
    "    return lst\n",
    "AscOrd(lst)"
   ]
  },
  {
   "cell_type": "code",
   "execution_count": 21,
   "id": "1e431197",
   "metadata": {},
   "outputs": [
    {
     "data": {
      "text/plain": [
       "[3, 7, 12, 17, 18, 31, 34, 34, 45, 45, 47, 69, 87, 87, 90]"
      ]
     },
     "execution_count": 21,
     "metadata": {},
     "output_type": "execute_result"
    }
   ],
   "source": [
    "lst = [45, 12, 87, 34, 90, 47, 7, 18, 31, 17, 3, 69, 87, 45, 34]\n",
    "def BubbleSort(lst):\n",
    "    n = len(lst)\n",
    "    for i in range(n - 1):\n",
    "        for j in range(n - i -1):\n",
    "            if lst[j] > lst[j+1]:\n",
    "                lst[j], lst[j+1] = lst[j+1], lst[j]\n",
    "    return lst\n",
    "BubbleSort(lst)"
   ]
  },
  {
   "cell_type": "code",
   "execution_count": 23,
   "id": "feb4df73",
   "metadata": {},
   "outputs": [
    {
     "data": {
      "text/plain": [
       "[3, 7, 12, 17, 18, 31, 34, 34, 45, 45, 47, 69, 87, 87, 90]"
      ]
     },
     "execution_count": 23,
     "metadata": {},
     "output_type": "execute_result"
    }
   ],
   "source": [
    "lst = [45, 12, 87, 34, 90, 47, 7, 18, 31, 17, 3, 69, 87, 45, 34]\n",
    "def BubbleSort(lst):\n",
    "    n = len(lst)\n",
    "    for i in range(n - 1):\n",
    "        swapped = False\n",
    "        for j in range(n - i -1):\n",
    "            if lst[j] > lst[j+1]:\n",
    "                lst[j], lst[j+1] = lst[j+1], lst[j]\n",
    "                swapped = True\n",
    "        if not swapped:\n",
    "            break\n",
    "    return lst\n",
    "BubbleSort(lst)"
   ]
  },
  {
   "cell_type": "code",
   "execution_count": 28,
   "id": "539038b6",
   "metadata": {},
   "outputs": [
    {
     "data": {
      "text/plain": [
       "[3, 7, 12, 17, 18, 31, 34, 34, 45, 45, 47, 69, 87, 87, 90]"
      ]
     },
     "execution_count": 28,
     "metadata": {},
     "output_type": "execute_result"
    }
   ],
   "source": [
    "lst = [45, 12, 87, 34, 90, 47, 7, 18, 31, 17, 3, 69, 87, 45, 34]\n",
    "def SelectionSort(lst):\n",
    "    n = len(lst)\n",
    "    for i in range(n - 1):\n",
    "        mini = i\n",
    "        for j in range(i+1, n):\n",
    "            if lst[mini] > lst[j]:\n",
    "                mini = j\n",
    "        lst[mini], lst[i] = lst[i], lst[mini]\n",
    "    return lst\n",
    "SelectionSort(lst)"
   ]
  },
  {
   "cell_type": "code",
   "execution_count": 35,
   "id": "3c405ff4",
   "metadata": {},
   "outputs": [
    {
     "data": {
      "text/plain": [
       "[3, 7, 12, 17, 18, 31, 34, 34, 45, 45, 47, 69, 87, 87, 90]"
      ]
     },
     "execution_count": 35,
     "metadata": {},
     "output_type": "execute_result"
    }
   ],
   "source": [
    "lst = [45, 12, 87, 34, 90, 47, 7, 18, 31, 17, 3, 69, 87, 45, 34]\n",
    "def InsertionSort(lst):\n",
    "    n = len(lst)\n",
    "    for i in range(1, n):\n",
    "        anchor = lst[i]\n",
    "        j = i - 1\n",
    "        while j >= 0 and anchor < lst[j]:\n",
    "            lst[j+1] = lst[j]\n",
    "            j -= 1\n",
    "        lst[j+1] = anchor\n",
    "    return lst\n",
    "InsertionSort(lst)"
   ]
  },
  {
   "cell_type": "code",
   "execution_count": 36,
   "id": "e90233ed",
   "metadata": {},
   "outputs": [
    {
     "data": {
      "text/plain": [
       "[3, 7, 12, 17, 18, 31, 34, 34, 45, 45, 47, 69, 87, 87, 90]"
      ]
     },
     "execution_count": 36,
     "metadata": {},
     "output_type": "execute_result"
    }
   ],
   "source": [
    "lst = [45, 12, 87, 34, 90, 47, 7, 18, 31, 17, 3, 69, 87, 45, 34]\n",
    "def ShellSort(lst):\n",
    "    n = len(lst)\n",
    "    gap = n//2\n",
    "    while gap >= 1:\n",
    "        for i in range(gap, n):\n",
    "            anchor = lst[i]\n",
    "            j = i - gap\n",
    "            while j >= 0 and anchor < lst[j]:\n",
    "                lst[j+gap] = lst[j]\n",
    "                j -= gap\n",
    "            lst[j+gap] = anchor\n",
    "        gap = gap // 2\n",
    "    return lst\n",
    "ShellSort(lst)"
   ]
  },
  {
   "cell_type": "code",
   "execution_count": 14,
   "id": "8fe28278",
   "metadata": {},
   "outputs": [
    {
     "data": {
      "text/plain": [
       "[90, 87, 87, 69, 47, 45, 45, 34, 34, 31, 18, 17, 12, 7, 3]"
      ]
     },
     "execution_count": 14,
     "metadata": {},
     "output_type": "execute_result"
    }
   ],
   "source": [
    "lst = [45, 12, 87, 34, 90, 47, 7, 18, 31, 17, 3, 69, 87, 45, 34]\n",
    "def BubbleSort(lst, left, right):\n",
    "    if left < right:\n",
    "        pi = Partition(lst, left, right)\n",
    "        BubbleSort(lst, left, pi - 1)\n",
    "        BubbleSort(lst, pi + 1, right)\n",
    "def Partition(lst, left, right):\n",
    "    pivot_index = left\n",
    "    pivot = lst[pivot_index]\n",
    "    while left < right:\n",
    "        while left < len(lst) and lst[left] >= pivot:\n",
    "            left += 1\n",
    "        while right >= 0 and lst[right] < pivot:\n",
    "            right -= 1\n",
    "        if left < right:\n",
    "            lst[left], lst[right] = lst[right], lst[left]\n",
    "    lst[pivot_index], lst[right] = lst[right], lst[pivot_index]\n",
    "    return right\n",
    "\n",
    "BubbleSort(lst, 0, len(lst)-1)\n",
    "lst"
   ]
  },
  {
   "cell_type": "code",
   "execution_count": 16,
   "id": "0dde9f14",
   "metadata": {},
   "outputs": [
    {
     "data": {
      "text/plain": [
       "[3, 7, 12, 17, 18, 31, 34, 34, 45, 45, 47, 69, 87, 87, 90]"
      ]
     },
     "execution_count": 16,
     "metadata": {},
     "output_type": "execute_result"
    }
   ],
   "source": [
    "lst = [45, 12, 87, 34, 90, 47, 7, 18, 31, 17, 3, 69, 87, 45, 34]\n",
    "def BubbleSort(lst, left, right):\n",
    "    if left < right:\n",
    "        pi = Partition(lst, left, right)\n",
    "        BubbleSort(lst, left, pi - 1)\n",
    "        BubbleSort(lst, pi + 1, right)\n",
    "def Partition(lst, left, right):\n",
    "    pivot_index = left\n",
    "    pivot = lst[right]\n",
    "    i = left\n",
    "    while i < right:\n",
    "        while pivot_index < right and lst[pivot_index] <= pivot:\n",
    "            pivot_index += 1\n",
    "        i = pivot_index\n",
    "        while i < right and lst[i] > pivot:\n",
    "            i += 1\n",
    "        if pivot_index < right:\n",
    "            lst[pivot_index], lst[i] = lst[i], lst[pivot_index]\n",
    "    return pivot_index\n",
    "\n",
    "BubbleSort(lst, 0, len(lst)-1)\n",
    "lst"
   ]
  },
  {
   "cell_type": "code",
   "execution_count": 19,
   "id": "153ba861",
   "metadata": {},
   "outputs": [
    {
     "data": {
      "text/plain": [
       "[3, 7, 12, 17, 18, 31, 34, 34, 45, 45, 47, 69, 87, 87, 90]"
      ]
     },
     "execution_count": 19,
     "metadata": {},
     "output_type": "execute_result"
    }
   ],
   "source": [
    "lst = [45, 12, 87, 34, 90, 47, 7, 18, 31, 17, 3, 69, 87, 45, 34]\n",
    "def BubbleSortRec(lst):\n",
    "    if len(lst) > 1:\n",
    "        pivot = lst[0]\n",
    "        left = [x for x in lst if x < pivot]\n",
    "        mid = [x for x in lst if x == pivot]\n",
    "        right = [x for x in lst if x > pivot]\n",
    "        return BubbleSortRec(left) + mid + BubbleSortRec(right)\n",
    "    return lst\n",
    "    \n",
    "BubbleSortRec(lst)"
   ]
  },
  {
   "cell_type": "code",
   "execution_count": 23,
   "id": "1207d734",
   "metadata": {},
   "outputs": [
    {
     "data": {
      "text/plain": [
       "[3, 7, 12, 17, 18, 31, 34, 34, 45, 45, 47, 69, 87, 87, 90]"
      ]
     },
     "execution_count": 23,
     "metadata": {},
     "output_type": "execute_result"
    }
   ],
   "source": [
    "lst = [45, 12, 87, 34, 90, 47, 7, 18, 31, 17, 3, 69, 87, 45, 34]\n",
    "def mergesort(lst):\n",
    "    if len(lst) >= 2:\n",
    "        mid = len(lst) // 2\n",
    "        left = lst[:mid]\n",
    "        right = lst[mid:]\n",
    "        mergesort(left)\n",
    "        mergesort(right)\n",
    "        MergeTwoArrays(lst, left, right)\n",
    "def MergeTwoArrays(lst, left, right):\n",
    "    i = j = k = 0\n",
    "    while i < len(left) and j < len(right):\n",
    "        if left[i] <= right[j]:\n",
    "            lst[k] = left[i]\n",
    "            i += 1\n",
    "        else:\n",
    "            lst[k] = right[j]\n",
    "            j += 1\n",
    "        k += 1\n",
    "        \n",
    "    while i < len(left):\n",
    "        lst[k] = left[i]\n",
    "        i += 1\n",
    "        k += 1\n",
    "    while j < len(right):\n",
    "        lst[k] = right[j]\n",
    "        j += 1\n",
    "        k +=1\n",
    "\n",
    "mergesort(lst)\n",
    "lst"
   ]
  },
  {
   "cell_type": "code",
   "execution_count": 30,
   "id": "e3827daf",
   "metadata": {},
   "outputs": [
    {
     "data": {
      "text/plain": [
       "[3, 7, 12, 17, 18, 31, 34, 34, 45, 45, 47, 69, 87, 87, 90]"
      ]
     },
     "execution_count": 30,
     "metadata": {},
     "output_type": "execute_result"
    }
   ],
   "source": [
    "lst = [45, 12, 87, 34, 90, 47, 7, 18, 31, 17, 3, 69, 87, 45, 34]\n",
    "def Heapify(lst, n, i):\n",
    "    largest = i\n",
    "    left = 2 * i + 1\n",
    "    right = 2 * i + 2\n",
    "    if left < n and lst[left] > lst[i]:\n",
    "        largest = left\n",
    "    if right < n and lst[right] > lst[largest]:\n",
    "        largest = right\n",
    "    if largest != i:\n",
    "        lst[largest], lst[i] = lst[i], lst[largest]\n",
    "        Heapify(lst, n, largest)\n",
    "\n",
    "def HeapSort(lst):\n",
    "    n = len(lst)\n",
    "    for i in range((n//2) - 1, -1, -1):\n",
    "        Heapify(lst, n, i)\n",
    "    for i in range(n-1, 0, -1):\n",
    "        lst[0], lst[i] = lst[i], lst[0]\n",
    "        Heapify(lst, i, 0)\n",
    "\n",
    "HeapSort(lst)\n",
    "lst"
   ]
  },
  {
   "cell_type": "code",
   "execution_count": 34,
   "id": "a9449dda",
   "metadata": {},
   "outputs": [
    {
     "name": "stdout",
     "output_type": "stream",
     "text": [
      "[2, 1, 1, 0, 2, 5, 4, 0, 2, 8, 7, 7, 9, 2, 0, 1, 9]\n",
      "[3, 3, 4, 0, 1, 1, 0, 2, 1, 2]\n",
      "[3, 6, 10, 10, 11, 12, 12, 14, 15, 17]\n"
     ]
    },
    {
     "data": {
      "text/plain": [
       "[0, 0, 0, 1, 1, 1, 2, 2, 2, 2, 4, 5, 7, 7, 8, 9, 9]"
      ]
     },
     "execution_count": 34,
     "metadata": {},
     "output_type": "execute_result"
    }
   ],
   "source": [
    "lst = [2,1,1,0,2,5,4,0,2,8,7,7,9,2,0,1,9]\n",
    "def CountSort(lst):\n",
    "    k = max(lst)\n",
    "    n = len(lst)\n",
    "    count = [0 for i in range(k+1)]\n",
    "    print(lst)\n",
    "    for element in lst:\n",
    "        count[element] += 1\n",
    "    print(count)\n",
    "    for i in range(1, k+1):\n",
    "        count[i] = count[i] + count[i-1]\n",
    "    print(count)\n",
    "    temp = [0 for i in range(n)]\n",
    "    for i in range(n-1,-1,-1,):#iterating from last to maintain stability\n",
    "        count[lst[i]]-=1\n",
    "        temp[count[lst[i]]]=lst[i]\n",
    "    for i in range(n):\n",
    "        lst[i] = temp[i]\n",
    "\n",
    "CountSort(lst)\n",
    "lst"
   ]
  },
  {
   "cell_type": "code",
   "execution_count": 36,
   "id": "372ef8ff",
   "metadata": {},
   "outputs": [
    {
     "data": {
      "text/plain": [
       "[0, 0, 0, 1, 1, 1, 2, 2, 2, 2, 4, 5, 7, 7, 8, 9, 9]"
      ]
     },
     "execution_count": 36,
     "metadata": {},
     "output_type": "execute_result"
    }
   ],
   "source": [
    "lst = [2,1,1,0,2,5,4,0,2,8,7,7,9,2,0,1,9]\n",
    "def CountSort(lst):\n",
    "    k = max(lst)\n",
    "    n = len(lst)\n",
    "    count = [0 for i in range(k+1)]\n",
    "    for ele in lst:\n",
    "        count[ele] += 1\n",
    "    temp = []\n",
    "    for i in range(k+1):\n",
    "        if count[i] != 0:\n",
    "            temp.extend([i]*count[i])\n",
    "    for i in range(n):\n",
    "        lst[i] = temp[i]\n",
    "\n",
    "CountSort(lst)\n",
    "lst"
   ]
  },
  {
   "cell_type": "code",
   "execution_count": 6,
   "id": "dac29084",
   "metadata": {},
   "outputs": [
    {
     "name": "stdout",
     "output_type": "stream",
     "text": [
      "-2 --> -1 --> 1 --> 2 --> 3 --> 4 --> 5 --> 6 --> 7 --> \n",
      "7 --> 6 --> 5 --> 4 --> 3 --> 2 --> 1 --> -1 --> -2 --> \n"
     ]
    }
   ],
   "source": [
    "class Node:\n",
    "    def __init__(self, data):\n",
    "        self.data = data\n",
    "        self.next = None\n",
    "        \n",
    "        \n",
    "class LinkedList:\n",
    "    def __init__(self):\n",
    "        self.head = None\n",
    "    def add_at_end(self, data):\n",
    "        if self.head:\n",
    "            newnode = Node(data)\n",
    "            temp = self.head\n",
    "            while temp.next:\n",
    "                temp = temp.next\n",
    "            temp.next = newnode\n",
    "        else:\n",
    "            self.head = Node(data)\n",
    "    def add_at_beg(self, data):\n",
    "        if self.head:\n",
    "            newnode = Node(data)\n",
    "            newnode.next = self.head\n",
    "            self.head = newnode\n",
    "        else:\n",
    "            self.add_at_end(data)\n",
    "    def get_length(self):\n",
    "        temp = self.head\n",
    "        length = 0\n",
    "        while temp:\n",
    "            length += 1\n",
    "            temp = temp.next\n",
    "        return length\n",
    "    def insert_at_index(self, data, pos):\n",
    "        length = self.get_length()\n",
    "        if pos < 0 and pos >= length:\n",
    "            print(\"Not possible to insert at that position\")\n",
    "        elif pos == 0:\n",
    "            self.add_at_beg(data)\n",
    "        elif pos == self.get_length():\n",
    "            self.add_at_end(data)\n",
    "        else:\n",
    "            temp = self.head\n",
    "            for i in range(pos-1):\n",
    "                temp = temp.next\n",
    "            newnode = Node(data)\n",
    "            newnode.next = temp.next\n",
    "            temp.next = newnode\n",
    "    def element_exist(self, data):\n",
    "        temp = self.head\n",
    "        while temp:\n",
    "            if temp.data == data:\n",
    "                return True\n",
    "            temp = temp.next\n",
    "        return False\n",
    "    def insert_after_value(self, reference, data):\n",
    "        if self.element_exist(reference):\n",
    "            temp = self.head\n",
    "            while temp:\n",
    "                if temp.data == reference:\n",
    "                    newnode = Node(data)\n",
    "                    newnode.next = temp.next\n",
    "                    temp.next = newnode\n",
    "                    return\n",
    "                temp = temp.next\n",
    "        else:\n",
    "            print(\"Element not present\")\n",
    "    def insert_multiple_at_beg(self, lst):\n",
    "        for i in range(len(lst)):\n",
    "            self.insert_at_index(lst[i], i)\n",
    "    def insert_multiple_at_end(self, lst):\n",
    "        for i in range(len(lst)):\n",
    "            self.add_at_end(lst[i])\n",
    "    def insert_multiple_at_pos(self, lst, pos):\n",
    "        length = self.get_length()\n",
    "        if pos < 0 and pos >= length:\n",
    "            print(\"Not possible to insert at that position\")\n",
    "        else:\n",
    "            for i in range(len(lst)):\n",
    "                self.insert_at_index(lst[i], i+pos)\n",
    "    def remove_at_beginning(self):\n",
    "        if self.head:\n",
    "            self.head = self.head.next\n",
    "        else:\n",
    "            print(\"List is already empty\")\n",
    "    def remove_at_end(self):\n",
    "        if self.head:\n",
    "            if self.head.next == None:\n",
    "                self.head = None\n",
    "                return\n",
    "            temp = self.head\n",
    "            while temp.next.next:\n",
    "                temp = temp.next\n",
    "            temp.next = None\n",
    "        else:\n",
    "            print(\"List is already empty\")\n",
    "    def remove_at_pos(self, pos):\n",
    "        length = self.get_length()\n",
    "        if pos < 0 and pos >= pos:\n",
    "            print(\"Can't delete at that position\")\n",
    "        elif pos == 0:\n",
    "            self.remove_at_beginning()\n",
    "        elif pos == length - 1:\n",
    "            self.remove_at_end()\n",
    "        else:\n",
    "            temp = self.head\n",
    "            for i in range(pos - 1):\n",
    "                temp = temp.next\n",
    "            temp.next = temp.next.next\n",
    "    def remove_element_by_value(self, data):\n",
    "        if self.element_exist(data):\n",
    "            if self.head.data == data:\n",
    "                self.head.next = self.head\n",
    "            else:\n",
    "                temp = self.head\n",
    "                while temp.next.data != data:\n",
    "                    temp = temp.next\n",
    "                temp.next = temp.next.next\n",
    "        else:\n",
    "            print(\"Element not found\")\n",
    "    def get_index(self, data):\n",
    "        if self.element_exist(data):\n",
    "            temp = self.head\n",
    "            index = 0\n",
    "            while temp:\n",
    "                if temp.data == data:\n",
    "                    return index\n",
    "                temp = temp.next\n",
    "                index += 1\n",
    "        else:\n",
    "            print(\"Element does not exists\")\n",
    "    def count(self, data):\n",
    "        if self.head:\n",
    "            temp = self.head\n",
    "            count = 0\n",
    "            while temp:\n",
    "                if temp.data == data:\n",
    "                    count += 1\n",
    "                temp = temp.next\n",
    "            return count\n",
    "        else:\n",
    "            print(\"Empty list\")\n",
    "    def element_at_index(self, index):\n",
    "        length = self.get_length()\n",
    "        if index < 0 and index >= length:\n",
    "            print(\"Invalid Index\")\n",
    "        else:\n",
    "            temp = self.head\n",
    "            for i in range(index):\n",
    "                temp = temp.next\n",
    "            return temp.data\n",
    "    def __len__(self):\n",
    "        return self.get_length()\n",
    "    def reverse(self):\n",
    "        prev = None\n",
    "        current = self.head\n",
    "        while current:\n",
    "            next = current.next\n",
    "            current.next = prev\n",
    "            prev = current\n",
    "            current = next\n",
    "        self.head = prev\n",
    "    def print_list(self):\n",
    "        if self.head:\n",
    "            temp = self.head\n",
    "            while temp:\n",
    "                print(temp.data, end = \" --> \")\n",
    "                temp = temp.next\n",
    "        print()\n",
    "lst = LinkedList()\n",
    "lst.add_at_end(1)\n",
    "lst.add_at_end(3)\n",
    "lst.add_at_beg(0)\n",
    "lst.insert_at_index(2, 2)\n",
    "lst.insert_multiple_at_beg([-3, -2, -1])\n",
    "lst.insert_multiple_at_end([6, 7, 8])\n",
    "lst.insert_multiple_at_pos([4, 5], 7)\n",
    "lst.insert_after_value(3, 3.5)\n",
    "lst.remove_at_beginning()\n",
    "lst.remove_at_end()\n",
    "lst.remove_at_pos(2)\n",
    "lst.remove_element_by_value(3.5)\n",
    "lst.print_list()\n",
    "lst.reverse()\n",
    "lst.print_list()"
   ]
  },
  {
   "cell_type": "code",
   "execution_count": 44,
   "id": "0a8aee42",
   "metadata": {},
   "outputs": [
    {
     "name": "stdout",
     "output_type": "stream",
     "text": [
      "1 --> 2 --> 3 --> \n",
      "3 --> 2 --> 1 --> \n"
     ]
    }
   ],
   "source": [
    "class Node:\n",
    "    def __init__(self, data):\n",
    "        self.data = data\n",
    "        self.next = None\n",
    "        self.prev = None\n",
    "\n",
    "class DoublyLinkedList:\n",
    "    def __init__(self):\n",
    "        self.head = self.tail = None\n",
    "    def add_at_end(self, data):\n",
    "        if self.head:\n",
    "            temp = self.head\n",
    "            while temp.next:\n",
    "                temp = temp.next\n",
    "            newnode = Node(data)\n",
    "            temp.next = newnode\n",
    "            newnode.prev = temp\n",
    "            self.tail = newnode\n",
    "        else:\n",
    "            self.head = self.tail = Node(data)\n",
    "\n",
    "    \n",
    "    def print_list(self):\n",
    "        temp = self.head\n",
    "        while temp:\n",
    "            print(temp.data, end = \" --> \")\n",
    "            temp = temp.next\n",
    "        print()\n",
    "    def print_rev(self):\n",
    "        temp = self.tail\n",
    "        while temp:\n",
    "            print(temp.data, end = \" --> \")\n",
    "            temp = temp.prev\n",
    "        print()\n",
    "lst = DoublyLinkedList()\n",
    "lst.add_at_end(1)\n",
    "lst.add_at_end(2)\n",
    "lst.add_at_end(3)\n",
    "lst.print_list()\n",
    "lst.print_rev()"
   ]
  },
  {
   "cell_type": "code",
   "execution_count": 34,
   "id": "1378231f",
   "metadata": {},
   "outputs": [],
   "source": [
    "class HashTable:\n",
    "    def __init__(self):\n",
    "        self.max = 10\n",
    "        self.arr = [[] for x in range(self.max)]\n",
    "    def get_hash(self, key):\n",
    "        h = 0\n",
    "        for char in key:\n",
    "            h += ord(char)\n",
    "        return h%self.max\n",
    "    def __setitem__(self, key, value):\n",
    "        h = self.get_hash(key)\n",
    "        if self.arr[h]:\n",
    "            for index, pair in enumerate(self.arr[h]):\n",
    "                if pair[0] == key:\n",
    "                    self.arr[h][index] = (key, value)\n",
    "                    return\n",
    "        self.arr[h].append((key, value))\n",
    "    def __getitem__(self, key):\n",
    "        h = self.get_hash(key)\n",
    "        if self.arr[h]:\n",
    "            for k, v in self.arr[h]:\n",
    "                if k == key:\n",
    "                    return v\n",
    "    def __delitem__(self, key):\n",
    "        h = self.get_hash(key)\n",
    "        if self.arr[h]:\n",
    "            for index, pair in enumerate(self.arr[h]):\n",
    "                if pair[0] == key:\n",
    "                    self.arr[h].pop(index)\n",
    "                    return\n",
    "            \n",
    "\n",
    "h = HashTable()\n",
    "h['Sharath'] = 203\n",
    "h['Varun'] = 204\n",
    "h['Rakesh'] = 205\n",
    "h['Ashrith'] = 206\n",
    "h['Preetham'] = 207\n",
    "h['Mithil'] = 209\n",
    "del h['Sharath']\n",
    "h['Sharath']"
   ]
  },
  {
   "cell_type": "code",
   "execution_count": 36,
   "id": "d9c22b77",
   "metadata": {},
   "outputs": [
    {
     "name": "stdout",
     "output_type": "stream",
     "text": [
      "True\n",
      "False\n",
      "True\n",
      "True\n",
      "False\n",
      "True\n"
     ]
    }
   ],
   "source": [
    "def is_balanced(string):\n",
    "    match = {\n",
    "        ']' : '[',\n",
    "        ')' : '(',\n",
    "        '}' : '{'\n",
    "    }\n",
    "    stack = []\n",
    "    for char in string:\n",
    "        if char in \"{[(\":\n",
    "            stack.append(char)\n",
    "        if char in \"}])\":\n",
    "            if not stack or stack.pop() != match[char]:\n",
    "                return False\n",
    "    return len(stack) == 0\n",
    "\n",
    "\n",
    "print(is_balanced(\"({a+b})\"))\n",
    "print(is_balanced(\"))((a+b}{\"))\n",
    "print(is_balanced(\"((a+b))\"))\n",
    "print(is_balanced(\"((a+g))\"))\n",
    "print(is_balanced(\"))\"))\n",
    "print(is_balanced(\"[a+b]*(x+2y)*{gg+kk}\"))          "
   ]
  },
  {
   "cell_type": "code",
   "execution_count": 41,
   "id": "cd3299cb",
   "metadata": {},
   "outputs": [
    {
     "name": "stdout",
     "output_type": "stream",
     "text": [
      "Electronics\n",
      "   Laptop\n",
      "      HP\n",
      "      Dell\n",
      "      acer\n",
      "   Mobiles\n",
      "      Samsung\n",
      "      Vivo\n",
      "      apple\n",
      "   TV\n",
      "      Panasonic\n",
      "      LG\n",
      "      MI\n"
     ]
    }
   ],
   "source": [
    "class Tree:\n",
    "    def __init__(self, data):\n",
    "        self.data = data\n",
    "        self.parent = None\n",
    "        self.children = []\n",
    "    def add_child(self, child):\n",
    "        child.parent = self\n",
    "        self.children.append(child)\n",
    "    def print_tree(self):\n",
    "        space = \"   \"*self.get_level()\n",
    "        print(f\"{space}{self.data}\")\n",
    "        if self.children:\n",
    "            for child in self.children:\n",
    "                child.print_tree()\n",
    "    def get_level(self, level = 0):\n",
    "        if self.parent:\n",
    "            return self.parent.get_level(level + 1)\n",
    "        return level\n",
    "root=Tree(\"Electronics\")\n",
    "laptop=Tree(\"Laptop\")\n",
    "laptop.add_child(Tree(\"HP\"))\n",
    "laptop.add_child(Tree(\"Dell\"))\n",
    "laptop.add_child(Tree(\"acer\"))\n",
    "root.add_child(laptop)\n",
    "mobile=Tree(\"Mobiles\")\n",
    "mobile.add_child(Tree(\"Samsung\"))\n",
    "mobile.add_child(Tree(\"Vivo\"))\n",
    "mobile.add_child(Tree(\"apple\"))\n",
    "root.add_child(mobile)\n",
    "tv=Tree(\"TV\")\n",
    "tv.add_child(Tree(\"Panasonic\"))\n",
    "tv.add_child(Tree(\"LG\"))\n",
    "tv.add_child(Tree(\"MI\"))\n",
    "root.add_child(tv)\n",
    "root.print_tree()"
   ]
  },
  {
   "cell_type": "code",
   "execution_count": 9,
   "id": "a4820f82",
   "metadata": {},
   "outputs": [
    {
     "name": "stdout",
     "output_type": "stream",
     "text": [
      "7 10 23 25 34 45 53 56 65 89 95 \n",
      "56 7 10 23 25 34 45 53 65 89 95 \n",
      "7 10 23 25 34 45 53 65 89 95 56 \n"
     ]
    },
    {
     "data": {
      "text/plain": [
       "2"
      ]
     },
     "execution_count": 9,
     "metadata": {},
     "output_type": "execute_result"
    }
   ],
   "source": [
    "class BinarySearchTree:\n",
    "    def __init__(self, data):\n",
    "        self.data = data\n",
    "        self.left = None\n",
    "        self.right = None\n",
    "    def add(self, data):\n",
    "        if data < self.data:\n",
    "            if self.left:\n",
    "                self.left.add(data)\n",
    "            else:\n",
    "                self.left = BinarySearchTree(data)\n",
    "        elif data > self.data:\n",
    "            if self.right:\n",
    "                self.right.add(data)\n",
    "            else:\n",
    "                self.right = BinarySearchTree(data)\n",
    "    def print_inorder(self):\n",
    "        if self.left:\n",
    "            self.left.print_inorder()\n",
    "        print(self.data, end = \" \")\n",
    "        if self.right:\n",
    "            self.right.print_inorder()\n",
    "    def print_preorder(self):\n",
    "        print(self.data, end = \" \")\n",
    "        if self.left:\n",
    "            self.left.print_inorder()\n",
    "        if self.right:\n",
    "            self.right.print_inorder()    \n",
    "    def print_postorder(self):\n",
    "        if self.left:\n",
    "            self.left.print_inorder()\n",
    "        if self.right:\n",
    "            self.right.print_inorder()\n",
    "        print(self.data, end = \" \")\n",
    "    def find_min(self):\n",
    "        if self.left:\n",
    "            return self.left.find_min()\n",
    "        return self.data\n",
    "    def find_max(self):\n",
    "        if self.right:\n",
    "            return self.right.find_max()\n",
    "        return self.data\n",
    "    def search(self, value):\n",
    "        if value == self.data:\n",
    "            return True\n",
    "        elif value > self.data:\n",
    "            if self.right:\n",
    "                return self.right.search(value)\n",
    "            return False\n",
    "        else:\n",
    "            if self.left:\n",
    "                return self.left.search(value)\n",
    "            return False\n",
    "    def delete(self, value):\n",
    "        if value < self.data:\n",
    "            if self.left:\n",
    "                self.left = self.left.delete(value)\n",
    "        elif value > self.data:\n",
    "            if self.right:\n",
    "                self.right = self.right.delete(value)\n",
    "        else:\n",
    "            if not self.left and not self.right:\n",
    "                return None\n",
    "            elif not self.left:\n",
    "                return self.right\n",
    "            elif not self.right:\n",
    "                return self.left\n",
    "            else:\n",
    "                min_val = self.left.find_max(value)\n",
    "                self.data = min_val\n",
    "                self.right = self.right.delete(min_val)\n",
    "        return self\n",
    "    def isBST(self):\n",
    "        if self.left and self.right:\n",
    "            if self.data > self.left.data and self.data < self.right.data:\n",
    "                return self.left.isBST() and self.right.isBST()\n",
    "            return False\n",
    "        if self.left:\n",
    "            if self.left.data < self.data:\n",
    "                return self.left.isBST()\n",
    "            return False\n",
    "        if self.right:\n",
    "            if self.right.data > self.data:\n",
    "                return self.right.isBST()\n",
    "            return False\n",
    "        return True\n",
    "    def get_level(self, data, level = 0):\n",
    "        if self.data == data:\n",
    "            return level\n",
    "        elif data > self.data:\n",
    "            if self.right:\n",
    "                return self.right.get_level(data, level+1)\n",
    "        else:\n",
    "            if self.left:\n",
    "                return self.left.get_level(data, level+1)\n",
    "        return -1\n",
    "tree = BinarySearchTree(56)\n",
    "tree.add(34)\n",
    "tree.add(89)\n",
    "tree.add(23)\n",
    "tree.add(53)\n",
    "tree.add(25)\n",
    "tree.add(45)\n",
    "tree.add(10)\n",
    "tree.add(95)\n",
    "tree.add(7)\n",
    "tree.add(65)\n",
    "tree.print_inorder()\n",
    "print()\n",
    "tree.print_preorder()\n",
    "print()\n",
    "tree.print_postorder()\n",
    "print()\n",
    "tree.get_level(65)"
   ]
  },
  {
   "cell_type": "code",
   "execution_count": 27,
   "id": "fa490997",
   "metadata": {},
   "outputs": [
    {
     "name": "stdout",
     "output_type": "stream",
     "text": [
      "{'Mumbai': ['Pune', 'Surat'], 'Surat': ['Bangaluru'], 'Pune': ['Hyderabad', 'Mysuru'], 'Hyderabad': ['Bangaluru', 'Chennai'], 'Mysuru': ['Bangaluru'], 'Chennai': ['Bangaluru']}\n"
     ]
    },
    {
     "data": {
      "text/plain": [
       "[['Mumbai', 'Pune', 'Hyderabad', 'Bangaluru'],\n",
       " ['Mumbai', 'Pune', 'Hyderabad', 'Chennai', 'Bangaluru'],\n",
       " ['Mumbai', 'Pune', 'Mysuru', 'Bangaluru'],\n",
       " ['Mumbai', 'Surat', 'Bangaluru']]"
      ]
     },
     "execution_count": 27,
     "metadata": {},
     "output_type": "execute_result"
    }
   ],
   "source": [
    "routes = [\n",
    "        (\"Mumbai\",\"Pune\"),\n",
    "        (\"Mumbai\", \"Surat\"),\n",
    "        (\"Surat\", \"Bangaluru\"),\n",
    "        (\"Pune\",\"Hyderabad\"),\n",
    "        (\"Pune\",\"Mysuru\"),\n",
    "        (\"Hyderabad\",\"Bangaluru\"),\n",
    "        (\"Hyderabad\", \"Chennai\"),\n",
    "        (\"Mysuru\", \"Bangaluru\"),\n",
    "        (\"Chennai\", \"Bangaluru\")\n",
    "    ]\n",
    "\n",
    "class Graph:\n",
    "    def __init__(self, routes):\n",
    "        self.routes_dict = dict()\n",
    "        for start, end in routes:\n",
    "            if start not in self.routes_dict.keys():\n",
    "                self.routes_dict[start] = [end]\n",
    "            else:\n",
    "                self.routes_dict[start].append(end)\n",
    "    def get_paths(self, start, end, path = []):\n",
    "        path = path + [start]\n",
    "        if start == end:\n",
    "            return [path]\n",
    "        if start not in self.routes_dict.keys():\n",
    "            return []\n",
    "        paths = []\n",
    "        for route in self.routes_dict[start]:\n",
    "            if route not in path:\n",
    "                new_paths = self.get_paths(route, end, path)\n",
    "                if new_paths:\n",
    "                    for p in new_paths:\n",
    "                        paths.append(p)\n",
    "        return paths\n",
    "    def get_shortest_path(self, start, end, path = []):\n",
    "        path = path + [start]\n",
    "        if start == end:\n",
    "            return path\n",
    "        if start not in self.routes_dict.keys():\n",
    "            return None\n",
    "        shortest_path = None\n",
    "        for route in self.routes_dict[start]:\n",
    "            if route not in path:\n",
    "                p = self.get_shortest_path(route, end, path)\n",
    "                if p and (shortest_path == None or len(p) < len(shortest_path)):\n",
    "                    shortest_path = p\n",
    "        return shortest_path\n",
    "g = Graph(routes)\n",
    "start = 'Mumbai'\n",
    "end = 'Bangaluru'\n",
    "print(g.routes_dict)\n",
    "g.get_paths(start,end)"
   ]
  },
  {
   "cell_type": "code",
   "execution_count": 28,
   "id": "a65e59de",
   "metadata": {},
   "outputs": [
    {
     "data": {
      "text/plain": [
       "['Mumbai', 'Surat', 'Bangaluru']"
      ]
     },
     "execution_count": 28,
     "metadata": {},
     "output_type": "execute_result"
    }
   ],
   "source": [
    "g.get_shortest_path(start, end)"
   ]
  },
  {
   "cell_type": "code",
   "execution_count": 34,
   "id": "6ad1b9d5",
   "metadata": {},
   "outputs": [
    {
     "data": {
      "text/plain": [
       "'aaaabbbaaaa'"
      ]
     },
     "execution_count": 34,
     "metadata": {},
     "output_type": "execute_result"
    }
   ],
   "source": [
    "string = \"sfhskfeaaaabbbaaaa\"\n",
    "def palindrome(string):\n",
    "    length = len(string)\n",
    "    n = length//2\n",
    "    for i in range(n):\n",
    "        if string[i] != string[length - i - 1]:\n",
    "            return False\n",
    "    return True\n",
    "def subsequence(string):\n",
    "    largest = \"\"\n",
    "    for i in range(len(string) - 1):\n",
    "        for j in range(i, len(string)):\n",
    "            for k in range(j+1, len(string)+1):\n",
    "                temp = string[j:k]\n",
    "                if palindrome(temp) and len(temp) > len(largest):\n",
    "                    largest = temp\n",
    "    return largest\n",
    "\n",
    "        \n",
    "subsequence(string)"
   ]
  },
  {
   "cell_type": "code",
   "execution_count": null,
   "id": "50a3a500",
   "metadata": {},
   "outputs": [],
   "source": []
  }
 ],
 "metadata": {
  "kernelspec": {
   "display_name": "Python 3",
   "language": "python",
   "name": "python3"
  },
  "language_info": {
   "codemirror_mode": {
    "name": "ipython",
    "version": 3
   },
   "file_extension": ".py",
   "mimetype": "text/x-python",
   "name": "python",
   "nbconvert_exporter": "python",
   "pygments_lexer": "ipython3",
   "version": "3.8.8"
  }
 },
 "nbformat": 4,
 "nbformat_minor": 5
}
