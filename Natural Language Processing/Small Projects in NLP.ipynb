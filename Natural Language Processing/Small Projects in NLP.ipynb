{
 "cells": [
  {
   "cell_type": "markdown",
   "id": "8b36e921",
   "metadata": {},
   "source": [
    "# Text Summarization"
   ]
  },
  {
   "cell_type": "code",
   "execution_count": 1,
   "id": "0337b985",
   "metadata": {},
   "outputs": [],
   "source": [
    "# importing libraries \n",
    "import nltk \n",
    "from nltk.corpus import stopwords \n",
    "from nltk.tokenize import word_tokenize, sent_tokenize "
   ]
  },
  {
   "cell_type": "code",
   "execution_count": 4,
   "id": "bbb4cd1a",
   "metadata": {},
   "outputs": [
    {
     "name": "stderr",
     "output_type": "stream",
     "text": [
      "[nltk_data] Downloading package stopwords to C:\\Users\\Sharath\n",
      "[nltk_data]     chandra\\AppData\\Roaming\\nltk_data...\n",
      "[nltk_data]   Unzipping corpora\\stopwords.zip.\n"
     ]
    },
    {
     "data": {
      "text/plain": [
       "True"
      ]
     },
     "execution_count": 4,
     "metadata": {},
     "output_type": "execute_result"
    }
   ],
   "source": [
    "nltk.download(\"stopwords\")"
   ]
  },
  {
   "cell_type": "code",
   "execution_count": 2,
   "id": "e2344b96",
   "metadata": {},
   "outputs": [],
   "source": [
    "# Input text - to summarize  \n",
    "text = \"There are many techniques available to generate extractive summarization to keep it simple, I will be using an unsupervised learning approach to find the sentences similarity and rank them. Summarization can be defined as a task of producing a concise and fluent summary while preserving key information and overall meaning. One benefit of this will be, you don’t need to train and build a model prior start using it for your project. It’s good to understand Cosine similarity to make the best use of the code you are going to see. Cosine similarity is a measure of similarity between two non-zero vectors of an inner product space that measures the cosine of the angle between them. Its measures cosine of the angle between vectors. The angle will be 0 if sentences are similar.\""
   ]
  },
  {
   "cell_type": "code",
   "execution_count": 5,
   "id": "6827a842",
   "metadata": {},
   "outputs": [],
   "source": [
    "# Tokenizing the text \n",
    "stopWords = set(stopwords.words(\"english\")) \n",
    "words = word_tokenize(text)"
   ]
  },
  {
   "cell_type": "code",
   "execution_count": 7,
   "id": "618f7dd8",
   "metadata": {},
   "outputs": [],
   "source": [
    "# Creating a frequency table to keep the  \n",
    "# score of each word \n",
    "   \n",
    "freqTable = dict() \n",
    "for word in words: \n",
    "    word = word.lower() \n",
    "    if word in stopWords: \n",
    "        continue\n",
    "    if word in freqTable: \n",
    "        freqTable[word] += 1\n",
    "    else: \n",
    "        freqTable[word] = 1"
   ]
  },
  {
   "cell_type": "code",
   "execution_count": 8,
   "id": "c3ca4bf8",
   "metadata": {},
   "outputs": [],
   "source": [
    "# Creating a dictionary to keep the score \n",
    "# of each sentence \n",
    "sentences = sent_tokenize(text) \n",
    "sentenceValue = dict() \n",
    "   \n",
    "for sentence in sentences: \n",
    "    for word, freq in freqTable.items(): \n",
    "        if word in sentence.lower(): \n",
    "            if sentence in sentenceValue: \n",
    "                sentenceValue[sentence] += freq \n",
    "            else: \n",
    "                sentenceValue[sentence] = freq "
   ]
  },
  {
   "cell_type": "code",
   "execution_count": 14,
   "id": "c0e88ff8",
   "metadata": {},
   "outputs": [
    {
     "data": {
      "text/plain": [
       "{'many': 1,\n",
       " 'techniques': 1,\n",
       " 'available': 1,\n",
       " 'generate': 1,\n",
       " 'extractive': 1,\n",
       " 'summarization': 2,\n",
       " 'keep': 1,\n",
       " 'simple': 1,\n",
       " ',': 2,\n",
       " 'using': 2,\n",
       " 'unsupervised': 1,\n",
       " 'learning': 1,\n",
       " 'approach': 1,\n",
       " 'find': 1,\n",
       " 'sentences': 2,\n",
       " 'similarity': 4,\n",
       " 'rank': 1,\n",
       " '.': 7,\n",
       " 'defined': 1,\n",
       " 'task': 1,\n",
       " 'producing': 1,\n",
       " 'concise': 1,\n",
       " 'fluent': 1,\n",
       " 'summary': 1,\n",
       " 'preserving': 1,\n",
       " 'key': 1,\n",
       " 'information': 1,\n",
       " 'overall': 1,\n",
       " 'meaning': 1,\n",
       " 'one': 1,\n",
       " 'benefit': 1,\n",
       " '’': 2,\n",
       " 'need': 1,\n",
       " 'train': 1,\n",
       " 'build': 1,\n",
       " 'model': 1,\n",
       " 'prior': 1,\n",
       " 'start': 1,\n",
       " 'project': 1,\n",
       " 'good': 1,\n",
       " 'understand': 1,\n",
       " 'cosine': 4,\n",
       " 'make': 1,\n",
       " 'best': 1,\n",
       " 'use': 1,\n",
       " 'code': 1,\n",
       " 'going': 1,\n",
       " 'see': 1,\n",
       " 'measure': 1,\n",
       " 'two': 1,\n",
       " 'non-zero': 1,\n",
       " 'vectors': 2,\n",
       " 'inner': 1,\n",
       " 'product': 1,\n",
       " 'space': 1,\n",
       " 'measures': 2,\n",
       " 'angle': 3,\n",
       " '0': 1,\n",
       " 'similar': 1}"
      ]
     },
     "execution_count": 14,
     "metadata": {},
     "output_type": "execute_result"
    }
   ],
   "source": [
    "freqTable"
   ]
  },
  {
   "cell_type": "code",
   "execution_count": 13,
   "id": "ead96530",
   "metadata": {},
   "outputs": [
    {
     "data": {
      "text/plain": [
       "{'There are many techniques available to generate extractive summarization to keep it simple, I will be using an unsupervised learning approach to find the sentences similarity and rank them.': 32,\n",
       " 'Summarization can be defined as a task of producing a concise and fluent summary while preserving key information and overall meaning.': 20,\n",
       " 'One benefit of this will be, you don’t need to train and build a model prior start using it for your project.': 22,\n",
       " 'It’s good to understand Cosine similarity to make the best use of the code you are going to see.': 26,\n",
       " 'Cosine similarity is a measure of similarity between two non-zero vectors of an inner product space that measures the cosine of the angle between them.': 29,\n",
       " 'Its measures cosine of the angle between vectors.': 19,\n",
       " 'The angle will be 0 if sentences are similar.': 14}"
      ]
     },
     "execution_count": 13,
     "metadata": {},
     "output_type": "execute_result"
    }
   ],
   "source": [
    "sentenceValue"
   ]
  },
  {
   "cell_type": "code",
   "execution_count": 9,
   "id": "abb6b58d",
   "metadata": {},
   "outputs": [],
   "source": [
    "sumValues = 0\n",
    "for sentence in sentenceValue: \n",
    "    sumValues += sentenceValue[sentence]"
   ]
  },
  {
   "cell_type": "code",
   "execution_count": 10,
   "id": "d4e73f42",
   "metadata": {},
   "outputs": [],
   "source": [
    "# Average value of a sentence from the original text \n",
    "   \n",
    "average = int(sumValues / len(sentenceValue)) "
   ]
  },
  {
   "cell_type": "code",
   "execution_count": 12,
   "id": "74b76493",
   "metadata": {},
   "outputs": [
    {
     "name": "stdout",
     "output_type": "stream",
     "text": [
      "There are many techniques available to generate extractive summarization to keep it simple, I will be using an unsupervised learning approach to find the sentences similarity and rank them. Cosine similarity is a measure of similarity between two non-zero vectors of an inner product space that measures the cosine of the angle between them. \n"
     ]
    }
   ],
   "source": [
    "# Storing sentences into our summary. \n",
    "summary = '' \n",
    "for sentence in sentences: \n",
    "    if (sentence in sentenceValue) and (sentenceValue[sentence] > (1.2 * average)): \n",
    "        summary += sentence + \" \"\n",
    "print(summary) "
   ]
  },
  {
   "cell_type": "code",
   "execution_count": null,
   "id": "d4cb52b2",
   "metadata": {},
   "outputs": [],
   "source": []
  }
 ],
 "metadata": {
  "kernelspec": {
   "display_name": "Python 3",
   "language": "python",
   "name": "python3"
  },
  "language_info": {
   "codemirror_mode": {
    "name": "ipython",
    "version": 3
   },
   "file_extension": ".py",
   "mimetype": "text/x-python",
   "name": "python",
   "nbconvert_exporter": "python",
   "pygments_lexer": "ipython3",
   "version": "3.8.8"
  }
 },
 "nbformat": 4,
 "nbformat_minor": 5
}
