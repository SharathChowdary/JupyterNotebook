{
 "cells": [
  {
   "cell_type": "code",
   "execution_count": 1,
   "id": "04664a4a",
   "metadata": {},
   "outputs": [],
   "source": [
    "#importing libraries\n",
    "import cv2 as cv\n",
    "import numpy as np\n",
    "import matplotlib.pyplot as plt"
   ]
  },
  {
   "cell_type": "code",
   "execution_count": 2,
   "id": "8f25a218",
   "metadata": {},
   "outputs": [],
   "source": [
    "#initializing yolo algorithm\n",
    "yolo=cv.dnn.readNet(\"D:\\programming languages\\OpenCV\\YOLO\\yolov3.weights\",\"D:\\programming languages\\OpenCV\\YOLO\\yolov3.cfg\")"
   ]
  },
  {
   "cell_type": "code",
   "execution_count": 3,
   "id": "169810a1",
   "metadata": {},
   "outputs": [
    {
     "data": {
      "text/plain": [
       "['person', 'bicycle', 'car', 'motorbike', 'aeroplane']"
      ]
     },
     "execution_count": 3,
     "metadata": {},
     "output_type": "execute_result"
    }
   ],
   "source": [
    "#storing the class names in classes\n",
    "classes=[]\n",
    "with open(\"D:\\programming languages\\OpenCV\\YOLO\\coco.names\",\"r\") as f:\n",
    "    classes=f.read().splitlines()\n",
    "classes[:5]"
   ]
  },
  {
   "cell_type": "code",
   "execution_count": 61,
   "id": "4430d1d5",
   "metadata": {},
   "outputs": [],
   "source": [
    "#distance between two points\n",
    "def get_distance(p1,p2):\n",
    "    return ((p1[0]-p2[0])**2 + (p1[1]-p2[1])**2)**0.5"
   ]
  },
  {
   "cell_type": "code",
   "execution_count": 72,
   "id": "ae557f31",
   "metadata": {},
   "outputs": [],
   "source": [
    "#threshold distance\n",
    "distance_threshold=50"
   ]
  },
  {
   "cell_type": "code",
   "execution_count": 83,
   "id": "f3be3002",
   "metadata": {},
   "outputs": [],
   "source": [
    "def start_video(path=0):\n",
    "    # capturing the video\n",
    "    capture=cv.VideoCapture(r\"C:\\Users\\Sharath chandra\\Downloads\\people walking 2.webm\")\n",
    "    while True:\n",
    "        isTrue,frame=capture.read()\n",
    "        #isTrue -> True if frame is read else False\n",
    "        if isTrue:\n",
    "            #creating blob for an image\n",
    "            blob=cv.dnn.blobFromImage(frame,1/255,(416,416),(0,0,0),swapRB=True,crop=False)\n",
    "            #initially image will be read in BGR so swapRB=True will convert image to RGB\n",
    "            #1/255  --> scaling an image\n",
    "            #(416,416) size that can be accepted by our yolo model (yoloV3-416)\n",
    "            yolo.setInput(blob)\n",
    "            output_layers_names=yolo.getUnconnectedOutLayersNames()\n",
    "            outputs=yolo.forward(output_layers_names)\n",
    "            boxes=[]\n",
    "            confidences=[]\n",
    "            class_ids=[]\n",
    "            centers=[]\n",
    "            for output in outputs:\n",
    "                for detection in output:\n",
    "                    scores=detection[5:]\n",
    "                    class_id=np.argmax(scores)\n",
    "                    confidence=scores[class_id]\n",
    "                    center_x=int(detection[0]*frame.shape[1])\n",
    "                    center_y=int(detection[1]*frame.shape[0])\n",
    "                    w=int(detection[2]*frame.shape[1])\n",
    "                    h=int(detection[3]*frame.shape[0])\n",
    "                    x=int(center_x-w/2)\n",
    "                    y=int(center_y-h/2)\n",
    "                    boxes.append([x,y,w,h])\n",
    "                    confidences.append(confidence)\n",
    "                    class_ids.append(class_id)\n",
    "                    centers.append((center_x,center_y))\n",
    "            indices=cv.dnn.NMSBoxes(boxes,confidences,0.5,0.4)\n",
    "            voilations=set()\n",
    "            for  i in range(len(indices)-1):\n",
    "                for j in range(i+1,len(indices)):\n",
    "                    if get_distance(centers[indices[i]],centers[indices[j]])<distance_threshold:\n",
    "                        voilations.add(indices[i])\n",
    "                        voilations.add(indices[j])\n",
    "            if len(indices)>0:\n",
    "                for i in indices.flatten():\n",
    "                    if class_ids[i]==0:\n",
    "                        x,y,w,h=boxes[i]\n",
    "                        if i in voilations:\n",
    "                            cv.rectangle(frame,(x,y),(x+w,y+h),(0,0,255),2)\n",
    "                        else:\n",
    "                            cv.rectangle(frame,(x,y),(x+w,y+h),(0,255,0),2)\n",
    "            cv.imshow(\"Video\",frame)\n",
    "            if cv.waitKey(1) & 0xFF==ord('q'):\n",
    "                break\n",
    "        else:\n",
    "            break\n",
    "    capture.release()\n",
    "    cv.destroyAllWindows()"
   ]
  },
  {
   "cell_type": "code",
   "execution_count": 84,
   "id": "1c0cd0e6",
   "metadata": {},
   "outputs": [],
   "source": [
    "start_video(r\"C:\\Users\\Sharath chandra\\Downloads\\people walking 2.webm\")"
   ]
  },
  {
   "cell_type": "code",
   "execution_count": null,
   "id": "cc40dc66",
   "metadata": {},
   "outputs": [],
   "source": []
  }
 ],
 "metadata": {
  "kernelspec": {
   "display_name": "Python 3",
   "language": "python",
   "name": "python3"
  },
  "language_info": {
   "codemirror_mode": {
    "name": "ipython",
    "version": 3
   },
   "file_extension": ".py",
   "mimetype": "text/x-python",
   "name": "python",
   "nbconvert_exporter": "python",
   "pygments_lexer": "ipython3",
   "version": "3.8.8"
  }
 },
 "nbformat": 4,
 "nbformat_minor": 5
}
