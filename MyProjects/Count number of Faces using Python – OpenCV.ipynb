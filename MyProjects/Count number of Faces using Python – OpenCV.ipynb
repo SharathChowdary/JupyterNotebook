{
 "cells": [
  {
   "cell_type": "code",
   "execution_count": 1,
   "id": "586cbf19",
   "metadata": {},
   "outputs": [],
   "source": [
    "import numpy as np\n",
    "import cv2 as cv"
   ]
  },
  {
   "cell_type": "code",
   "execution_count": 3,
   "id": "92611a81",
   "metadata": {},
   "outputs": [],
   "source": [
    "haar_cascade=cv.CascadeClassifier(\"D:\\programming languages\\OpenCV\\HaarCascades\\haarcascade_frontalface_default.xml\")\n",
    "capture=cv.VideoCapture(0)\n",
    "while True:\n",
    "    isTrue,frame=capture.read()\n",
    "    if isTrue:\n",
    "        gray=cv.cvtColor(frame,cv.COLOR_BGR2GRAY)\n",
    "        faces=haar_cascade.detectMultiScale(gray,scaleFactor=1.1,minNeighbors=10)\n",
    "        cv.putText(frame,\"Total faces : \"+str(len(faces)),(10,30),cv.FONT_HERSHEY_COMPLEX,1.0,(0,0,255),2)\n",
    "        i=0\n",
    "        for x,y,w,h in faces:\n",
    "            i+=1\n",
    "            cv.rectangle(frame,(x,y),(x+w,y+h),(0,255,0),2)\n",
    "            cv.putText(frame,\"Face no : \"+str(i),(x,y-10),cv.FONT_HERSHEY_COMPLEX,0.5,(0,255,0),2)\n",
    "        cv.imshow(\"Face\",frame)\n",
    "        if cv.waitKey(1) & 0xFF==ord('q'):\n",
    "            break\n",
    "    else:\n",
    "        break\n",
    "capture.release()\n",
    "cv.destroyAllWindows()"
   ]
  },
  {
   "cell_type": "code",
   "execution_count": 5,
   "id": "77c4fd3d",
   "metadata": {},
   "outputs": [],
   "source": []
  }
 ],
 "metadata": {
  "kernelspec": {
   "display_name": "Python 3",
   "language": "python",
   "name": "python3"
  },
  "language_info": {
   "codemirror_mode": {
    "name": "ipython",
    "version": 3
   },
   "file_extension": ".py",
   "mimetype": "text/x-python",
   "name": "python",
   "nbconvert_exporter": "python",
   "pygments_lexer": "ipython3",
   "version": "3.8.8"
  }
 },
 "nbformat": 4,
 "nbformat_minor": 5
}
