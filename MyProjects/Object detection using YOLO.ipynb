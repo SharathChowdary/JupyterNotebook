{
 "cells": [
  {
   "cell_type": "code",
   "execution_count": 1,
   "id": "3f3f5d85",
   "metadata": {},
   "outputs": [],
   "source": [
    "import cv2 as cv\n",
    "import numpy as np\n",
    "import matplotlib.pyplot as plt"
   ]
  },
  {
   "cell_type": "code",
   "execution_count": 2,
   "id": "0b5e7302",
   "metadata": {},
   "outputs": [],
   "source": [
    "yolo=cv.dnn.readNet(\"D:\\programming languages\\OpenCV\\YOLO\\yolov3.weights\",\"D:\\programming languages\\OpenCV\\YOLO\\yolov3.cfg\")"
   ]
  },
  {
   "cell_type": "code",
   "execution_count": 3,
   "id": "26383ce0",
   "metadata": {},
   "outputs": [],
   "source": [
    "classes=[]\n",
    "with open(\"D:\\programming languages\\OpenCV\\YOLO\\coco.names\",\"r\") as f:\n",
    "    classes=f.read().splitlines()"
   ]
  },
  {
   "cell_type": "code",
   "execution_count": 4,
   "id": "d78f4dd1",
   "metadata": {},
   "outputs": [],
   "source": [
    "#randomly creating 80 colors of each having 3 channels\n",
    "colors = np.random.uniform(0, 255, size=(len(classes), 3))"
   ]
  },
  {
   "cell_type": "markdown",
   "id": "e94b34fa",
   "metadata": {},
   "source": [
    "# Detecting objects in an Image"
   ]
  },
  {
   "cell_type": "code",
   "execution_count": 5,
   "id": "620d7d63",
   "metadata": {},
   "outputs": [],
   "source": [
    "def detect_objects_in_image(path):\n",
    "    img=cv.imread(path)\n",
    "    blob=cv.dnn.blobFromImage(img,1/255,(416,416),(0,0,0),swapRB=True,crop=False)\n",
    "    yolo.setInput(blob)\n",
    "    output_layers_names=yolo.getUnconnectedOutLayersNames()\n",
    "    outputs=yolo.forward(output_layers_names)\n",
    "    boxes = []\n",
    "    confidences = []\n",
    "    class_ids = []\n",
    "    for output in outputs:\n",
    "        for detection in output:\n",
    "            scores = detection[5:]\n",
    "            class_id = np.argmax(scores)\n",
    "            confidence = scores[class_id]\n",
    "            if confidence > 0.5:\n",
    "                center_x = int(detection[0] * img.shape[1])\n",
    "                center_y = int(detection[1] * img.shape[0])\n",
    "                width = int(detection[2] * img.shape[1])\n",
    "                height = int(detection[3] * img.shape[0])\n",
    "                x = int(center_x - width / 2)\n",
    "                y = int(center_y - height / 2)\n",
    "                boxes.append([x, y, width, height])\n",
    "                confidences.append(float(confidence))\n",
    "                class_ids.append(class_id)\n",
    "    indices = cv.dnn.NMSBoxes(bboxes=boxes, scores=confidences, score_threshold=0.5, nms_threshold=0.4)\n",
    "    if len(indices) > 0:\n",
    "        for i in indices.flatten():\n",
    "            x, y, w, h = boxes[i]\n",
    "            label = classes[class_ids[i]]\n",
    "            confidence = confidences[i]\n",
    "            color = colors[class_ids[i]]\n",
    "\n",
    "            cv.rectangle(img, (x, y), (x + w, y + h), color, 2)\n",
    "            cv.putText(img, f\"{label}: {confidence:.2f}\", (x, y - 10),\n",
    "                        cv.FONT_HERSHEY_SIMPLEX, 0.6, color, 2)\n",
    "    cv.imshow(\"Object Detection\", img)\n",
    "    cv.waitKey(0)\n",
    "    cv.destroyAllWindows()"
   ]
  },
  {
   "cell_type": "code",
   "execution_count": 6,
   "id": "aa5c05e7",
   "metadata": {},
   "outputs": [],
   "source": [
    "detect_objects_in_image(r\"D:\\programming languages\\OpenCV\\photoes\\person_on_cycle.jpg\")"
   ]
  },
  {
   "cell_type": "markdown",
   "id": "191fda52",
   "metadata": {},
   "source": [
    "# Detecting objects in a video"
   ]
  },
  {
   "cell_type": "code",
   "execution_count": 5,
   "id": "5f738508",
   "metadata": {},
   "outputs": [],
   "source": [
    "def detect_objects_in_video(path=0):\n",
    "    capture=cv.VideoCapture(path)\n",
    "    while True:\n",
    "        isTrue,frame=capture.read()\n",
    "        if isTrue:\n",
    "            blob=cv.dnn.blobFromImage(frame,1/255,(416,416),(0,0,0),swapRB=True,crop=False)\n",
    "            yolo.setInput(blob)\n",
    "            outputs=yolo.forward(yolo.getUnconnectedOutLayersNames())\n",
    "            boxes=[]\n",
    "            confidences=[]\n",
    "            class_ids=[]\n",
    "            for output in outputs:\n",
    "                for prediction in output:\n",
    "                    scores=prediction[5:]\n",
    "                    class_id=np.argmax(scores)\n",
    "                    confidence=scores[class_id]\n",
    "                    if confidence>0.5:\n",
    "                        center_x=int(prediction[0]*frame.shape[1])\n",
    "                        center_y=int(prediction[1]*frame.shape[0])\n",
    "                        width=int(prediction[2]*frame.shape[1])\n",
    "                        height=int(prediction[3]*frame.shape[0])\n",
    "                        x=int(center_x-width/2)\n",
    "                        y=int(center_y-height/2)\n",
    "                        boxes.append([x,y,width,height])\n",
    "                        confidences.append(confidence)\n",
    "                        class_ids.append(class_id)\n",
    "            indices=cv.dnn.NMSBoxes(boxes,confidences,0.5,0.4)\n",
    "            if len(indices)>0:\n",
    "                for i in indices.flatten():\n",
    "                    x,y,w,h=boxes[i]\n",
    "                    cv.rectangle(frame,(x,y),(x+w,y+h),colors[i],2)\n",
    "                    cv.putText(frame,classes[class_ids[i]]+\" : \"+str(round(confidences[i],2)),(x,y-10),cv.FONT_HERSHEY_COMPLEX,1.0,colors[i],2)\n",
    "            cv.imshow(\"Video\",frame)\n",
    "            if cv.waitKey(1) & 0xFF==ord('q'):\n",
    "                break\n",
    "        else:\n",
    "            break\n",
    "    capture.release()\n",
    "    cv.destroyAllWindows()"
   ]
  },
  {
   "cell_type": "code",
   "execution_count": 6,
   "id": "73e691e2",
   "metadata": {},
   "outputs": [],
   "source": [
    "detect_objects_in_video(r\"D:\\programming languages\\OpenCV\\photoes\\videos\\kitten.mp4\")"
   ]
  },
  {
   "cell_type": "code",
   "execution_count": null,
   "id": "35fd5eef",
   "metadata": {},
   "outputs": [],
   "source": []
  }
 ],
 "metadata": {
  "kernelspec": {
   "display_name": "Python 3",
   "language": "python",
   "name": "python3"
  },
  "language_info": {
   "codemirror_mode": {
    "name": "ipython",
    "version": 3
   },
   "file_extension": ".py",
   "mimetype": "text/x-python",
   "name": "python",
   "nbconvert_exporter": "python",
   "pygments_lexer": "ipython3",
   "version": "3.8.8"
  }
 },
 "nbformat": 4,
 "nbformat_minor": 5
}
