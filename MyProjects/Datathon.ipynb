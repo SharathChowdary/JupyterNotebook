{
 "cells": [
  {
   "cell_type": "code",
   "execution_count": 12,
   "id": "8d60e7e5",
   "metadata": {},
   "outputs": [],
   "source": [
    "import pandas as pd\n",
    "import numpy as np\n",
    "import matplotlib.pyplot as plt"
   ]
  },
  {
   "cell_type": "code",
   "execution_count": 13,
   "id": "671c4840",
   "metadata": {},
   "outputs": [],
   "source": [
    "data=pd.read_csv(\"House_Price.csv\")"
   ]
  },
  {
   "cell_type": "code",
   "execution_count": 14,
   "id": "07768b73",
   "metadata": {},
   "outputs": [
    {
     "data": {
      "text/html": [
       "<div>\n",
       "<style scoped>\n",
       "    .dataframe tbody tr th:only-of-type {\n",
       "        vertical-align: middle;\n",
       "    }\n",
       "\n",
       "    .dataframe tbody tr th {\n",
       "        vertical-align: top;\n",
       "    }\n",
       "\n",
       "    .dataframe thead th {\n",
       "        text-align: right;\n",
       "    }\n",
       "</style>\n",
       "<table border=\"1\" class=\"dataframe\">\n",
       "  <thead>\n",
       "    <tr style=\"text-align: right;\">\n",
       "      <th></th>\n",
       "      <th>Avg. Area Income</th>\n",
       "      <th>House Age</th>\n",
       "      <th>Number of Rooms</th>\n",
       "      <th>Number of Bedrooms</th>\n",
       "      <th>Area Population</th>\n",
       "      <th>Price</th>\n",
       "      <th>Address</th>\n",
       "    </tr>\n",
       "  </thead>\n",
       "  <tbody>\n",
       "    <tr>\n",
       "      <th>0</th>\n",
       "      <td>79545.45857</td>\n",
       "      <td>5.682861</td>\n",
       "      <td>7.009188</td>\n",
       "      <td>4.09</td>\n",
       "      <td>23086.80050</td>\n",
       "      <td>1.059034e+06</td>\n",
       "      <td>208 Michael Ferry Apt. 674\\nLaurabury, NE 3701...</td>\n",
       "    </tr>\n",
       "    <tr>\n",
       "      <th>1</th>\n",
       "      <td>79248.64245</td>\n",
       "      <td>6.002900</td>\n",
       "      <td>6.730821</td>\n",
       "      <td>3.09</td>\n",
       "      <td>40173.07217</td>\n",
       "      <td>1.505891e+06</td>\n",
       "      <td>188 Johnson Views Suite 079\\nLake Kathleen, CA...</td>\n",
       "    </tr>\n",
       "    <tr>\n",
       "      <th>2</th>\n",
       "      <td>61287.06718</td>\n",
       "      <td>5.865890</td>\n",
       "      <td>8.512727</td>\n",
       "      <td>5.13</td>\n",
       "      <td>36882.15940</td>\n",
       "      <td>1.058988e+06</td>\n",
       "      <td>9127 Elizabeth Stravenue\\nDanieltown, WI 06482...</td>\n",
       "    </tr>\n",
       "    <tr>\n",
       "      <th>3</th>\n",
       "      <td>63345.24005</td>\n",
       "      <td>7.188236</td>\n",
       "      <td>5.586729</td>\n",
       "      <td>3.26</td>\n",
       "      <td>34310.24283</td>\n",
       "      <td>1.260617e+06</td>\n",
       "      <td>USS Barnett\\nFPO AP 44820</td>\n",
       "    </tr>\n",
       "    <tr>\n",
       "      <th>4</th>\n",
       "      <td>59982.19723</td>\n",
       "      <td>5.040555</td>\n",
       "      <td>7.839388</td>\n",
       "      <td>4.23</td>\n",
       "      <td>26354.10947</td>\n",
       "      <td>6.309435e+05</td>\n",
       "      <td>USNS Raymond\\nFPO AE 09386</td>\n",
       "    </tr>\n",
       "    <tr>\n",
       "      <th>...</th>\n",
       "      <td>...</td>\n",
       "      <td>...</td>\n",
       "      <td>...</td>\n",
       "      <td>...</td>\n",
       "      <td>...</td>\n",
       "      <td>...</td>\n",
       "      <td>...</td>\n",
       "    </tr>\n",
       "    <tr>\n",
       "      <th>4543</th>\n",
       "      <td>84556.63627</td>\n",
       "      <td>5.092459</td>\n",
       "      <td>6.723412</td>\n",
       "      <td>2.42</td>\n",
       "      <td>31797.31744</td>\n",
       "      <td>1.326847e+06</td>\n",
       "      <td>97160 Tracy Junction\\nErinborough, WY 73884</td>\n",
       "    </tr>\n",
       "    <tr>\n",
       "      <th>4544</th>\n",
       "      <td>82732.98111</td>\n",
       "      <td>5.332712</td>\n",
       "      <td>6.198476</td>\n",
       "      <td>3.49</td>\n",
       "      <td>41136.52722</td>\n",
       "      <td>1.252664e+06</td>\n",
       "      <td>0630 Wilson Shoal\\nNorth Philip, AK 91611</td>\n",
       "    </tr>\n",
       "    <tr>\n",
       "      <th>4545</th>\n",
       "      <td>65694.05127</td>\n",
       "      <td>6.436741</td>\n",
       "      <td>6.704929</td>\n",
       "      <td>3.14</td>\n",
       "      <td>43406.71203</td>\n",
       "      <td>1.359763e+06</td>\n",
       "      <td>PSC 2681, Box 5759\\nAPO AA 82431-2879</td>\n",
       "    </tr>\n",
       "    <tr>\n",
       "      <th>4546</th>\n",
       "      <td>76061.35071</td>\n",
       "      <td>7.148713</td>\n",
       "      <td>7.546066</td>\n",
       "      <td>6.30</td>\n",
       "      <td>40876.96459</td>\n",
       "      <td>1.778013e+06</td>\n",
       "      <td>04117 Bennett Greens\\nGonzalezfort, NJ 86640-8362</td>\n",
       "    </tr>\n",
       "    <tr>\n",
       "      <th>4547</th>\n",
       "      <td>66935.47508</td>\n",
       "      <td>6.376390</td>\n",
       "      <td>8.513826</td>\n",
       "      <td>5.47</td>\n",
       "      <td>17573.61710</td>\n",
       "      <td>1.109059e+06</td>\n",
       "      <td>55454 M</td>\n",
       "    </tr>\n",
       "  </tbody>\n",
       "</table>\n",
       "<p>4548 rows × 7 columns</p>\n",
       "</div>"
      ],
      "text/plain": [
       "      Avg. Area Income  House Age  Number of Rooms  Number of Bedrooms  \\\n",
       "0          79545.45857   5.682861         7.009188                4.09   \n",
       "1          79248.64245   6.002900         6.730821                3.09   \n",
       "2          61287.06718   5.865890         8.512727                5.13   \n",
       "3          63345.24005   7.188236         5.586729                3.26   \n",
       "4          59982.19723   5.040555         7.839388                4.23   \n",
       "...                ...        ...              ...                 ...   \n",
       "4543       84556.63627   5.092459         6.723412                2.42   \n",
       "4544       82732.98111   5.332712         6.198476                3.49   \n",
       "4545       65694.05127   6.436741         6.704929                3.14   \n",
       "4546       76061.35071   7.148713         7.546066                6.30   \n",
       "4547       66935.47508   6.376390         8.513826                5.47   \n",
       "\n",
       "      Area Population         Price  \\\n",
       "0         23086.80050  1.059034e+06   \n",
       "1         40173.07217  1.505891e+06   \n",
       "2         36882.15940  1.058988e+06   \n",
       "3         34310.24283  1.260617e+06   \n",
       "4         26354.10947  6.309435e+05   \n",
       "...               ...           ...   \n",
       "4543      31797.31744  1.326847e+06   \n",
       "4544      41136.52722  1.252664e+06   \n",
       "4545      43406.71203  1.359763e+06   \n",
       "4546      40876.96459  1.778013e+06   \n",
       "4547      17573.61710  1.109059e+06   \n",
       "\n",
       "                                                Address  \n",
       "0     208 Michael Ferry Apt. 674\\nLaurabury, NE 3701...  \n",
       "1     188 Johnson Views Suite 079\\nLake Kathleen, CA...  \n",
       "2     9127 Elizabeth Stravenue\\nDanieltown, WI 06482...  \n",
       "3                             USS Barnett\\nFPO AP 44820  \n",
       "4                            USNS Raymond\\nFPO AE 09386  \n",
       "...                                                 ...  \n",
       "4543        97160 Tracy Junction\\nErinborough, WY 73884  \n",
       "4544          0630 Wilson Shoal\\nNorth Philip, AK 91611  \n",
       "4545              PSC 2681, Box 5759\\nAPO AA 82431-2879  \n",
       "4546  04117 Bennett Greens\\nGonzalezfort, NJ 86640-8362  \n",
       "4547                                            55454 M  \n",
       "\n",
       "[4548 rows x 7 columns]"
      ]
     },
     "execution_count": 14,
     "metadata": {},
     "output_type": "execute_result"
    }
   ],
   "source": [
    "data"
   ]
  },
  {
   "cell_type": "code",
   "execution_count": 16,
   "id": "e083b946",
   "metadata": {},
   "outputs": [
    {
     "data": {
      "text/html": [
       "<div>\n",
       "<style scoped>\n",
       "    .dataframe tbody tr th:only-of-type {\n",
       "        vertical-align: middle;\n",
       "    }\n",
       "\n",
       "    .dataframe tbody tr th {\n",
       "        vertical-align: top;\n",
       "    }\n",
       "\n",
       "    .dataframe thead th {\n",
       "        text-align: right;\n",
       "    }\n",
       "</style>\n",
       "<table border=\"1\" class=\"dataframe\">\n",
       "  <thead>\n",
       "    <tr style=\"text-align: right;\">\n",
       "      <th></th>\n",
       "      <th>Avg. Area Income</th>\n",
       "      <th>House Age</th>\n",
       "      <th>Number of Rooms</th>\n",
       "      <th>Number of Bedrooms</th>\n",
       "      <th>Area Population</th>\n",
       "      <th>Price</th>\n",
       "    </tr>\n",
       "  </thead>\n",
       "  <tbody>\n",
       "    <tr>\n",
       "      <th>0</th>\n",
       "      <td>79545.45857</td>\n",
       "      <td>5.682861</td>\n",
       "      <td>7.009188</td>\n",
       "      <td>4.09</td>\n",
       "      <td>23086.80050</td>\n",
       "      <td>1.059034e+06</td>\n",
       "    </tr>\n",
       "    <tr>\n",
       "      <th>1</th>\n",
       "      <td>79248.64245</td>\n",
       "      <td>6.002900</td>\n",
       "      <td>6.730821</td>\n",
       "      <td>3.09</td>\n",
       "      <td>40173.07217</td>\n",
       "      <td>1.505891e+06</td>\n",
       "    </tr>\n",
       "    <tr>\n",
       "      <th>2</th>\n",
       "      <td>61287.06718</td>\n",
       "      <td>5.865890</td>\n",
       "      <td>8.512727</td>\n",
       "      <td>5.13</td>\n",
       "      <td>36882.15940</td>\n",
       "      <td>1.058988e+06</td>\n",
       "    </tr>\n",
       "    <tr>\n",
       "      <th>3</th>\n",
       "      <td>63345.24005</td>\n",
       "      <td>7.188236</td>\n",
       "      <td>5.586729</td>\n",
       "      <td>3.26</td>\n",
       "      <td>34310.24283</td>\n",
       "      <td>1.260617e+06</td>\n",
       "    </tr>\n",
       "    <tr>\n",
       "      <th>4</th>\n",
       "      <td>59982.19723</td>\n",
       "      <td>5.040555</td>\n",
       "      <td>7.839388</td>\n",
       "      <td>4.23</td>\n",
       "      <td>26354.10947</td>\n",
       "      <td>6.309435e+05</td>\n",
       "    </tr>\n",
       "    <tr>\n",
       "      <th>...</th>\n",
       "      <td>...</td>\n",
       "      <td>...</td>\n",
       "      <td>...</td>\n",
       "      <td>...</td>\n",
       "      <td>...</td>\n",
       "      <td>...</td>\n",
       "    </tr>\n",
       "    <tr>\n",
       "      <th>4543</th>\n",
       "      <td>84556.63627</td>\n",
       "      <td>5.092459</td>\n",
       "      <td>6.723412</td>\n",
       "      <td>2.42</td>\n",
       "      <td>31797.31744</td>\n",
       "      <td>1.326847e+06</td>\n",
       "    </tr>\n",
       "    <tr>\n",
       "      <th>4544</th>\n",
       "      <td>82732.98111</td>\n",
       "      <td>5.332712</td>\n",
       "      <td>6.198476</td>\n",
       "      <td>3.49</td>\n",
       "      <td>41136.52722</td>\n",
       "      <td>1.252664e+06</td>\n",
       "    </tr>\n",
       "    <tr>\n",
       "      <th>4545</th>\n",
       "      <td>65694.05127</td>\n",
       "      <td>6.436741</td>\n",
       "      <td>6.704929</td>\n",
       "      <td>3.14</td>\n",
       "      <td>43406.71203</td>\n",
       "      <td>1.359763e+06</td>\n",
       "    </tr>\n",
       "    <tr>\n",
       "      <th>4546</th>\n",
       "      <td>76061.35071</td>\n",
       "      <td>7.148713</td>\n",
       "      <td>7.546066</td>\n",
       "      <td>6.30</td>\n",
       "      <td>40876.96459</td>\n",
       "      <td>1.778013e+06</td>\n",
       "    </tr>\n",
       "    <tr>\n",
       "      <th>4547</th>\n",
       "      <td>66935.47508</td>\n",
       "      <td>6.376390</td>\n",
       "      <td>8.513826</td>\n",
       "      <td>5.47</td>\n",
       "      <td>17573.61710</td>\n",
       "      <td>1.109059e+06</td>\n",
       "    </tr>\n",
       "  </tbody>\n",
       "</table>\n",
       "<p>4548 rows × 6 columns</p>\n",
       "</div>"
      ],
      "text/plain": [
       "      Avg. Area Income  House Age  Number of Rooms  Number of Bedrooms  \\\n",
       "0          79545.45857   5.682861         7.009188                4.09   \n",
       "1          79248.64245   6.002900         6.730821                3.09   \n",
       "2          61287.06718   5.865890         8.512727                5.13   \n",
       "3          63345.24005   7.188236         5.586729                3.26   \n",
       "4          59982.19723   5.040555         7.839388                4.23   \n",
       "...                ...        ...              ...                 ...   \n",
       "4543       84556.63627   5.092459         6.723412                2.42   \n",
       "4544       82732.98111   5.332712         6.198476                3.49   \n",
       "4545       65694.05127   6.436741         6.704929                3.14   \n",
       "4546       76061.35071   7.148713         7.546066                6.30   \n",
       "4547       66935.47508   6.376390         8.513826                5.47   \n",
       "\n",
       "      Area Population         Price  \n",
       "0         23086.80050  1.059034e+06  \n",
       "1         40173.07217  1.505891e+06  \n",
       "2         36882.15940  1.058988e+06  \n",
       "3         34310.24283  1.260617e+06  \n",
       "4         26354.10947  6.309435e+05  \n",
       "...               ...           ...  \n",
       "4543      31797.31744  1.326847e+06  \n",
       "4544      41136.52722  1.252664e+06  \n",
       "4545      43406.71203  1.359763e+06  \n",
       "4546      40876.96459  1.778013e+06  \n",
       "4547      17573.61710  1.109059e+06  \n",
       "\n",
       "[4548 rows x 6 columns]"
      ]
     },
     "execution_count": 16,
     "metadata": {},
     "output_type": "execute_result"
    }
   ],
   "source": [
    "#dropping address column\n",
    "data.drop(\"Address\",axis=1,inplace=True)\n",
    "data"
   ]
  },
  {
   "cell_type": "code",
   "execution_count": 18,
   "id": "cc868374",
   "metadata": {},
   "outputs": [
    {
     "data": {
      "text/plain": [
       "Avg. Area Income      0\n",
       "House Age             0\n",
       "Number of Rooms       0\n",
       "Number of Bedrooms    0\n",
       "Area Population       0\n",
       "Price                 0\n",
       "dtype: int64"
      ]
     },
     "execution_count": 18,
     "metadata": {},
     "output_type": "execute_result"
    }
   ],
   "source": [
    "data.isna().sum()"
   ]
  },
  {
   "cell_type": "code",
   "execution_count": 19,
   "id": "4d5b96c6",
   "metadata": {},
   "outputs": [
    {
     "name": "stdout",
     "output_type": "stream",
     "text": [
      "Avg. Area Income : float64\n",
      "House Age : float64\n",
      "Number of Rooms : float64\n",
      "Number of Bedrooms : float64\n",
      "Area Population : float64\n",
      "Price : float64\n"
     ]
    }
   ],
   "source": [
    "for column in data.columns:\n",
    "    print(f\"{column} :\",data[column].dtype)"
   ]
  },
  {
   "cell_type": "code",
   "execution_count": 22,
   "id": "5ef804f5",
   "metadata": {},
   "outputs": [],
   "source": [
    "data['Number of Rooms']=data['Number of Rooms'].apply(lambda x : int(x))"
   ]
  },
  {
   "cell_type": "code",
   "execution_count": 23,
   "id": "3cd1cbc2",
   "metadata": {},
   "outputs": [
    {
     "data": {
      "text/plain": [
       "dtype('int64')"
      ]
     },
     "execution_count": 23,
     "metadata": {},
     "output_type": "execute_result"
    }
   ],
   "source": [
    "data['Number of Rooms'].dtype"
   ]
  },
  {
   "cell_type": "code",
   "execution_count": 24,
   "id": "c8f76aa3",
   "metadata": {},
   "outputs": [],
   "source": [
    "data['Area Population']=data['Area Population'].apply(lambda x : int(x))"
   ]
  },
  {
   "cell_type": "code",
   "execution_count": 25,
   "id": "dc340d0e",
   "metadata": {},
   "outputs": [
    {
     "data": {
      "text/plain": [
       "dtype('int64')"
      ]
     },
     "execution_count": 25,
     "metadata": {},
     "output_type": "execute_result"
    }
   ],
   "source": [
    "data['Area Population'].dtype"
   ]
  },
  {
   "cell_type": "code",
   "execution_count": 26,
   "id": "c57670b7",
   "metadata": {},
   "outputs": [],
   "source": [
    "data['Number of Bedrooms']=data['Number of Bedrooms'].apply(lambda x : int(x))"
   ]
  },
  {
   "cell_type": "code",
   "execution_count": 27,
   "id": "5da8f5f9",
   "metadata": {},
   "outputs": [
    {
     "data": {
      "text/plain": [
       "dtype('int64')"
      ]
     },
     "execution_count": 27,
     "metadata": {},
     "output_type": "execute_result"
    }
   ],
   "source": [
    "data['Number of Bedrooms'].dtype"
   ]
  },
  {
   "cell_type": "code",
   "execution_count": 30,
   "id": "0e51f52e",
   "metadata": {},
   "outputs": [
    {
     "data": {
      "text/plain": [
       "dtype('int64')"
      ]
     },
     "execution_count": 30,
     "metadata": {},
     "output_type": "execute_result"
    }
   ],
   "source": [
    "data['House Age']=data['House Age'].apply(lambda x : int(x))\n",
    "data['House Age'].dtype"
   ]
  },
  {
   "cell_type": "code",
   "execution_count": 31,
   "id": "3b9c98f1",
   "metadata": {},
   "outputs": [
    {
     "data": {
      "text/html": [
       "<div>\n",
       "<style scoped>\n",
       "    .dataframe tbody tr th:only-of-type {\n",
       "        vertical-align: middle;\n",
       "    }\n",
       "\n",
       "    .dataframe tbody tr th {\n",
       "        vertical-align: top;\n",
       "    }\n",
       "\n",
       "    .dataframe thead th {\n",
       "        text-align: right;\n",
       "    }\n",
       "</style>\n",
       "<table border=\"1\" class=\"dataframe\">\n",
       "  <thead>\n",
       "    <tr style=\"text-align: right;\">\n",
       "      <th></th>\n",
       "      <th>Avg. Area Income</th>\n",
       "      <th>House Age</th>\n",
       "      <th>Number of Rooms</th>\n",
       "      <th>Number of Bedrooms</th>\n",
       "      <th>Area Population</th>\n",
       "      <th>Price</th>\n",
       "    </tr>\n",
       "  </thead>\n",
       "  <tbody>\n",
       "    <tr>\n",
       "      <th>0</th>\n",
       "      <td>79545.45857</td>\n",
       "      <td>5</td>\n",
       "      <td>7</td>\n",
       "      <td>4</td>\n",
       "      <td>23086</td>\n",
       "      <td>1.059034e+06</td>\n",
       "    </tr>\n",
       "    <tr>\n",
       "      <th>1</th>\n",
       "      <td>79248.64245</td>\n",
       "      <td>6</td>\n",
       "      <td>6</td>\n",
       "      <td>3</td>\n",
       "      <td>40173</td>\n",
       "      <td>1.505891e+06</td>\n",
       "    </tr>\n",
       "    <tr>\n",
       "      <th>2</th>\n",
       "      <td>61287.06718</td>\n",
       "      <td>5</td>\n",
       "      <td>8</td>\n",
       "      <td>5</td>\n",
       "      <td>36882</td>\n",
       "      <td>1.058988e+06</td>\n",
       "    </tr>\n",
       "    <tr>\n",
       "      <th>3</th>\n",
       "      <td>63345.24005</td>\n",
       "      <td>7</td>\n",
       "      <td>5</td>\n",
       "      <td>3</td>\n",
       "      <td>34310</td>\n",
       "      <td>1.260617e+06</td>\n",
       "    </tr>\n",
       "    <tr>\n",
       "      <th>4</th>\n",
       "      <td>59982.19723</td>\n",
       "      <td>5</td>\n",
       "      <td>7</td>\n",
       "      <td>4</td>\n",
       "      <td>26354</td>\n",
       "      <td>6.309435e+05</td>\n",
       "    </tr>\n",
       "    <tr>\n",
       "      <th>...</th>\n",
       "      <td>...</td>\n",
       "      <td>...</td>\n",
       "      <td>...</td>\n",
       "      <td>...</td>\n",
       "      <td>...</td>\n",
       "      <td>...</td>\n",
       "    </tr>\n",
       "    <tr>\n",
       "      <th>4543</th>\n",
       "      <td>84556.63627</td>\n",
       "      <td>5</td>\n",
       "      <td>6</td>\n",
       "      <td>2</td>\n",
       "      <td>31797</td>\n",
       "      <td>1.326847e+06</td>\n",
       "    </tr>\n",
       "    <tr>\n",
       "      <th>4544</th>\n",
       "      <td>82732.98111</td>\n",
       "      <td>5</td>\n",
       "      <td>6</td>\n",
       "      <td>3</td>\n",
       "      <td>41136</td>\n",
       "      <td>1.252664e+06</td>\n",
       "    </tr>\n",
       "    <tr>\n",
       "      <th>4545</th>\n",
       "      <td>65694.05127</td>\n",
       "      <td>6</td>\n",
       "      <td>6</td>\n",
       "      <td>3</td>\n",
       "      <td>43406</td>\n",
       "      <td>1.359763e+06</td>\n",
       "    </tr>\n",
       "    <tr>\n",
       "      <th>4546</th>\n",
       "      <td>76061.35071</td>\n",
       "      <td>7</td>\n",
       "      <td>7</td>\n",
       "      <td>6</td>\n",
       "      <td>40876</td>\n",
       "      <td>1.778013e+06</td>\n",
       "    </tr>\n",
       "    <tr>\n",
       "      <th>4547</th>\n",
       "      <td>66935.47508</td>\n",
       "      <td>6</td>\n",
       "      <td>8</td>\n",
       "      <td>5</td>\n",
       "      <td>17573</td>\n",
       "      <td>1.109059e+06</td>\n",
       "    </tr>\n",
       "  </tbody>\n",
       "</table>\n",
       "<p>4548 rows × 6 columns</p>\n",
       "</div>"
      ],
      "text/plain": [
       "      Avg. Area Income  House Age  Number of Rooms  Number of Bedrooms  \\\n",
       "0          79545.45857          5                7                   4   \n",
       "1          79248.64245          6                6                   3   \n",
       "2          61287.06718          5                8                   5   \n",
       "3          63345.24005          7                5                   3   \n",
       "4          59982.19723          5                7                   4   \n",
       "...                ...        ...              ...                 ...   \n",
       "4543       84556.63627          5                6                   2   \n",
       "4544       82732.98111          5                6                   3   \n",
       "4545       65694.05127          6                6                   3   \n",
       "4546       76061.35071          7                7                   6   \n",
       "4547       66935.47508          6                8                   5   \n",
       "\n",
       "      Area Population         Price  \n",
       "0               23086  1.059034e+06  \n",
       "1               40173  1.505891e+06  \n",
       "2               36882  1.058988e+06  \n",
       "3               34310  1.260617e+06  \n",
       "4               26354  6.309435e+05  \n",
       "...               ...           ...  \n",
       "4543            31797  1.326847e+06  \n",
       "4544            41136  1.252664e+06  \n",
       "4545            43406  1.359763e+06  \n",
       "4546            40876  1.778013e+06  \n",
       "4547            17573  1.109059e+06  \n",
       "\n",
       "[4548 rows x 6 columns]"
      ]
     },
     "execution_count": 31,
     "metadata": {},
     "output_type": "execute_result"
    }
   ],
   "source": [
    "data"
   ]
  },
  {
   "cell_type": "code",
   "execution_count": 36,
   "id": "278e652c",
   "metadata": {},
   "outputs": [],
   "source": [
    "data=data[data['Number of Rooms']>=data['Number of Bedrooms']]"
   ]
  },
  {
   "cell_type": "code",
   "execution_count": 37,
   "id": "db7760ee",
   "metadata": {},
   "outputs": [
    {
     "data": {
      "text/plain": [
       "(4546, 6)"
      ]
     },
     "execution_count": 37,
     "metadata": {},
     "output_type": "execute_result"
    }
   ],
   "source": [
    "data.shape"
   ]
  },
  {
   "cell_type": "code",
   "execution_count": 177,
   "id": "6712c117",
   "metadata": {},
   "outputs": [],
   "source": [
    "def remove_outliers(data):\n",
    "    final_df=pd.DataFrame()\n",
    "    grouped_rooms=data.groupby(\"Number of Rooms\")\n",
    "    for rooms,rooms_df in grouped_rooms:\n",
    "        grouped_age=rooms_df.groupby(\"House Age\")\n",
    "        for age, age_df in grouped_age:\n",
    "            min_cond=age_df.Price>=age_df.Price.mean()-3*age_df.Price.std()\n",
    "            max_cond=age_df.Price<=age_df.Price.mean()+3*age_df.Price.std()\n",
    "            sub_df=age_df[min_cond & max_cond]\n",
    "            final_df=pd.concat([final_df,sub_df],ignore_index=True)\n",
    "    return final_df"
   ]
  },
  {
   "cell_type": "code",
   "execution_count": 178,
   "id": "1d66c042",
   "metadata": {},
   "outputs": [],
   "source": [
    "final_data=remove_outliers(data)"
   ]
  },
  {
   "cell_type": "code",
   "execution_count": 179,
   "id": "4b901325",
   "metadata": {},
   "outputs": [
    {
     "data": {
      "text/plain": [
       "(4525, 6)"
      ]
     },
     "execution_count": 179,
     "metadata": {},
     "output_type": "execute_result"
    }
   ],
   "source": [
    "final_data.shape"
   ]
  },
  {
   "cell_type": "code",
   "execution_count": 180,
   "id": "9ee1d47d",
   "metadata": {},
   "outputs": [
    {
     "data": {
      "text/plain": [
       "(4525, 5)"
      ]
     },
     "execution_count": 180,
     "metadata": {},
     "output_type": "execute_result"
    }
   ],
   "source": [
    "x=final_data.drop(\"Price\",axis=1)\n",
    "x.shape"
   ]
  },
  {
   "cell_type": "code",
   "execution_count": 181,
   "id": "dafcc867",
   "metadata": {},
   "outputs": [
    {
     "data": {
      "text/plain": [
       "(4525,)"
      ]
     },
     "execution_count": 181,
     "metadata": {},
     "output_type": "execute_result"
    }
   ],
   "source": [
    "y=final_data['Price']\n",
    "y.shape"
   ]
  },
  {
   "cell_type": "code",
   "execution_count": 182,
   "id": "ab4d2012",
   "metadata": {},
   "outputs": [],
   "source": [
    "from sklearn.linear_model import LinearRegression\n",
    "from sklearn.model_selection import train_test_split"
   ]
  },
  {
   "cell_type": "code",
   "execution_count": 192,
   "id": "248ec773",
   "metadata": {},
   "outputs": [
    {
     "data": {
      "text/plain": [
       "0.9027760106440035"
      ]
     },
     "execution_count": 192,
     "metadata": {},
     "output_type": "execute_result"
    }
   ],
   "source": [
    "x_train,x_test,y_train,y_test=train_test_split(x,y,test_size=0.1)\n",
    "model=LinearRegression()\n",
    "model.fit(x_train,y_train)\n",
    "model.score(x_test,y_test)"
   ]
  },
  {
   "cell_type": "code",
   "execution_count": null,
   "id": "9f1851c3",
   "metadata": {},
   "outputs": [],
   "source": []
  }
 ],
 "metadata": {
  "kernelspec": {
   "display_name": "Python 3",
   "language": "python",
   "name": "python3"
  },
  "language_info": {
   "codemirror_mode": {
    "name": "ipython",
    "version": 3
   },
   "file_extension": ".py",
   "mimetype": "text/x-python",
   "name": "python",
   "nbconvert_exporter": "python",
   "pygments_lexer": "ipython3",
   "version": "3.8.8"
  }
 },
 "nbformat": 4,
 "nbformat_minor": 5
}
