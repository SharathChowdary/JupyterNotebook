{
 "cells": [
  {
   "cell_type": "code",
   "execution_count": 8,
   "metadata": {},
   "outputs": [
    {
     "name": "stdout",
     "output_type": "stream",
     "text": [
      "Guess the number: 54\n",
      "The number you guessed is too high!\n",
      "Guess the number: 40\n",
      "The number you guessed is too high!\n",
      "Guess the number: 20\n",
      "The number you guessed is too low!\n",
      "Guess the number: 30\n",
      "The number you guessed is too high!\n",
      "Guess the number: 25\n",
      "The number you guessed is too high!\n",
      "Guess the number: 24\n",
      "The number you guessed is too high!\n",
      "Guess the number: 23\n",
      "The number you guessed is too high!\n",
      "Guess the number: 22\n",
      "Congratulations! You guessed correct number in 8 attempts.\n"
     ]
    }
   ],
   "source": [
    "#Guessing random number\n",
    "\n",
    "import random\n",
    "def guess(n):\n",
    "    random_number=random.randint(1,n+1)\n",
    "    guessed_number=0\n",
    "    count=1\n",
    "    while guessed_number!=random_number:\n",
    "        guessed_number=int(input(\"Guess the number: \"))\n",
    "        if guessed_number<random_number:\n",
    "            print(\"The number you guessed is too low!\")\n",
    "            count+=1\n",
    "        elif guessed_number>random_number:\n",
    "            print(\"The number you guessed is too high!\")\n",
    "            count+=1\n",
    "        else:\n",
    "            print(f\"Congratulations! You guessed correct number in {count} attempts.\")\n",
    "            break\n",
    "guess(100)"
   ]
  },
  {
   "cell_type": "code",
   "execution_count": 12,
   "metadata": {},
   "outputs": [
    {
     "name": "stdout",
     "output_type": "stream",
     "text": [
      "Enter the number : 54\n",
      "The number you guessed 40 is too low!\n",
      "The number you guessed 58 is too high!\n",
      "The number you guessed 41 is too low!\n",
      "The number you guessed 44 is too low!\n",
      "The number you guessed 45 is too low!\n",
      "The number you guessed 47 is too low!\n",
      "The number you guessed 53 is too low!\n",
      "The number you guessed 55 is too high!\n",
      "Congratulations! You guessed 54 correct number in 9 attempts.\n"
     ]
    }
   ],
   "source": [
    "#Guessing random number (computer guesses the number)\n",
    "\n",
    "import random\n",
    "def guess(n):\n",
    "    user_guess=int(input(\"Enter the number : \"))\n",
    "    count=1\n",
    "    random_number=0\n",
    "    low=0\n",
    "    high=100\n",
    "    while user_guess!=random_number:\n",
    "        random_number=random.randint(low,high)\n",
    "        if random_number>user_guess:\n",
    "            print(f\"The number you guessed {random_number} is too high!\")\n",
    "            high=random_number-1\n",
    "            count+=1\n",
    "        elif random_number<user_guess:\n",
    "            print(f\"The number you guessed {random_number} is too low!\")\n",
    "            low=random_number+1\n",
    "            count+=1\n",
    "        else:\n",
    "            print(f\"Congratulations! You guessed {random_number} correct number in {count} attempts.\")\n",
    "            break\n",
    "guess(100)"
   ]
  },
  {
   "cell_type": "code",
   "execution_count": null,
   "metadata": {},
   "outputs": [],
   "source": [
    "#Guessing random number (computer guesses input and the number )\n",
    "\n",
    "import random\n",
    "def guess(n):\n",
    "    user_guess=int(input(\"Enter the number : \"))\n",
    "    count=1\n",
    "    random_number=0\n",
    "    low=0\n",
    "    high=100\n",
    "    while user_guess!=random_number:\n",
    "        random_number=random.randint(low,high)\n",
    "        if random_number>user_guess:\n",
    "            print(f\"The number you guessed {random_number} is too high!\")\n",
    "            high=random_number-1\n",
    "            count+=1\n",
    "        elif random_number<user_guess:\n",
    "            print(f\"The number you guessed {random_number} is too low!\")\n",
    "            low=random_number+1\n",
    "            count+=1\n",
    "        else:\n",
    "            print(f\"Congratulations! You guessed {random_number} correct number in {count} attempts.\")\n",
    "            break\n",
    "guess(100)"
   ]
  },
  {
   "cell_type": "code",
   "execution_count": 9,
   "metadata": {},
   "outputs": [
    {
     "name": "stdout",
     "output_type": "stream",
     "text": [
      "Enter 'r' for rock, 'p' for paper and 's' for scissor : q\n",
      "Please enter valid input\n"
     ]
    }
   ],
   "source": [
    "#Rock, paper and scissor game\n",
    "import random\n",
    "def show(val):\n",
    "    if val=='r':\n",
    "        return \"rock\"\n",
    "    elif val=='p':\n",
    "        return \"paper\"\n",
    "    elif val=='s':\n",
    "        return \"scissor\"\n",
    "    else:\n",
    "        return \"invalid entry\"\n",
    "def play():\n",
    "    yours=input(\"Enter 'r' for rock, 'p' for paper and 's' for scissor : \")\n",
    "    if show(yours)==\"invalid entry\":\n",
    "        print(\"Please enter valid input\")\n",
    "        return\n",
    "    print(\"Your choice is\",show(yours))\n",
    "    comp=random.choice(['r','p','s'])\n",
    "    print(\"Computer choice is\",show(comp))\n",
    "    if yours==comp:\n",
    "        print(\"It is a draw. play again\")\n",
    "    elif is_win(yours,comp):\n",
    "        print(\"You won\")\n",
    "    else:\n",
    "        print(\"You lost\")\n",
    "    \n",
    "def is_win(player,opponent):\n",
    "    if (player=='r' and opponent=='s') or (player=='p' and opponent=='r') or (player=='s' and opponent=='p'):\n",
    "        return True\n",
    "play()"
   ]
  },
  {
   "cell_type": "code",
   "execution_count": null,
   "metadata": {},
   "outputs": [],
   "source": []
  }
 ],
 "metadata": {
  "kernelspec": {
   "display_name": "Python 3",
   "language": "python",
   "name": "python3"
  },
  "language_info": {
   "codemirror_mode": {
    "name": "ipython",
    "version": 3
   },
   "file_extension": ".py",
   "mimetype": "text/x-python",
   "name": "python",
   "nbconvert_exporter": "python",
   "pygments_lexer": "ipython3",
   "version": "3.8.8"
  }
 },
 "nbformat": 4,
 "nbformat_minor": 4
}
